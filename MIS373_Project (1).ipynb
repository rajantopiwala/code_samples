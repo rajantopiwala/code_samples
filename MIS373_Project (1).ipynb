{
 "cells": [
  {
   "cell_type": "code",
   "execution_count": 47,
   "metadata": {
    "colab": {
     "base_uri": "https://localhost:8080/"
    },
    "id": "M9Xn5pRXsu7L",
    "outputId": "67911cd7-29a3-4ab7-9bff-4b24675b5960"
   },
   "outputs": [
    {
     "name": "stdout",
     "output_type": "stream",
     "text": [
      "%pylab is deprecated, use %matplotlib inline and import the required libraries.\n",
      "Populating the interactive namespace from numpy and matplotlib\n"
     ]
    }
   ],
   "source": [
    "import pandas as pd\n",
    "import numpy as np\n",
    "import statsmodels.api as sm\n",
    "from sklearn.model_selection import train_test_split\n",
    "from sklearn.linear_model import LinearRegression\n",
    "from sklearn.metrics import mean_squared_error, r2_score\n",
    "%pylab inline"
   ]
  },
  {
   "cell_type": "code",
   "execution_count": 3,
   "metadata": {
    "colab": {
     "base_uri": "https://localhost:8080/",
     "height": 386
    },
    "id": "TEW5gYOWtKba",
    "outputId": "5de47e18-4064-46db-fca1-90b6b41b00da"
   },
   "outputs": [
    {
     "data": {
      "text/html": [
       "<div>\n",
       "<style scoped>\n",
       "    .dataframe tbody tr th:only-of-type {\n",
       "        vertical-align: middle;\n",
       "    }\n",
       "\n",
       "    .dataframe tbody tr th {\n",
       "        vertical-align: top;\n",
       "    }\n",
       "\n",
       "    .dataframe thead th {\n",
       "        text-align: right;\n",
       "    }\n",
       "</style>\n",
       "<table border=\"1\" class=\"dataframe\">\n",
       "  <thead>\n",
       "    <tr style=\"text-align: right;\">\n",
       "      <th></th>\n",
       "      <th>Unnamed: 0</th>\n",
       "      <th>cut</th>\n",
       "      <th>color</th>\n",
       "      <th>clarity</th>\n",
       "      <th>carat_weight</th>\n",
       "      <th>cut_quality</th>\n",
       "      <th>lab</th>\n",
       "      <th>symmetry</th>\n",
       "      <th>polish</th>\n",
       "      <th>eye_clean</th>\n",
       "      <th>...</th>\n",
       "      <th>meas_depth</th>\n",
       "      <th>girdle_min</th>\n",
       "      <th>girdle_max</th>\n",
       "      <th>fluor_color</th>\n",
       "      <th>fluor_intensity</th>\n",
       "      <th>fancy_color_dominant_color</th>\n",
       "      <th>fancy_color_secondary_color</th>\n",
       "      <th>fancy_color_overtone</th>\n",
       "      <th>fancy_color_intensity</th>\n",
       "      <th>total_sales_price</th>\n",
       "    </tr>\n",
       "  </thead>\n",
       "  <tbody>\n",
       "    <tr>\n",
       "      <th>0</th>\n",
       "      <td>0</td>\n",
       "      <td>Round</td>\n",
       "      <td>E</td>\n",
       "      <td>VVS2</td>\n",
       "      <td>0.09</td>\n",
       "      <td>Excellent</td>\n",
       "      <td>IGI</td>\n",
       "      <td>Very Good</td>\n",
       "      <td>Very Good</td>\n",
       "      <td>unknown</td>\n",
       "      <td>...</td>\n",
       "      <td>1.79</td>\n",
       "      <td>M</td>\n",
       "      <td>M</td>\n",
       "      <td>unknown</td>\n",
       "      <td>None</td>\n",
       "      <td>unknown</td>\n",
       "      <td>unknown</td>\n",
       "      <td>unknown</td>\n",
       "      <td>unknown</td>\n",
       "      <td>200</td>\n",
       "    </tr>\n",
       "    <tr>\n",
       "      <th>1</th>\n",
       "      <td>1</td>\n",
       "      <td>Round</td>\n",
       "      <td>E</td>\n",
       "      <td>VVS2</td>\n",
       "      <td>0.09</td>\n",
       "      <td>Very Good</td>\n",
       "      <td>IGI</td>\n",
       "      <td>Very Good</td>\n",
       "      <td>Very Good</td>\n",
       "      <td>unknown</td>\n",
       "      <td>...</td>\n",
       "      <td>1.78</td>\n",
       "      <td>STK</td>\n",
       "      <td>STK</td>\n",
       "      <td>unknown</td>\n",
       "      <td>None</td>\n",
       "      <td>unknown</td>\n",
       "      <td>unknown</td>\n",
       "      <td>unknown</td>\n",
       "      <td>unknown</td>\n",
       "      <td>200</td>\n",
       "    </tr>\n",
       "    <tr>\n",
       "      <th>2</th>\n",
       "      <td>2</td>\n",
       "      <td>Round</td>\n",
       "      <td>E</td>\n",
       "      <td>VVS2</td>\n",
       "      <td>0.09</td>\n",
       "      <td>Excellent</td>\n",
       "      <td>IGI</td>\n",
       "      <td>Very Good</td>\n",
       "      <td>Very Good</td>\n",
       "      <td>unknown</td>\n",
       "      <td>...</td>\n",
       "      <td>1.77</td>\n",
       "      <td>TN</td>\n",
       "      <td>M</td>\n",
       "      <td>unknown</td>\n",
       "      <td>None</td>\n",
       "      <td>unknown</td>\n",
       "      <td>unknown</td>\n",
       "      <td>unknown</td>\n",
       "      <td>unknown</td>\n",
       "      <td>200</td>\n",
       "    </tr>\n",
       "    <tr>\n",
       "      <th>3</th>\n",
       "      <td>3</td>\n",
       "      <td>Round</td>\n",
       "      <td>E</td>\n",
       "      <td>VVS2</td>\n",
       "      <td>0.09</td>\n",
       "      <td>Excellent</td>\n",
       "      <td>IGI</td>\n",
       "      <td>Very Good</td>\n",
       "      <td>Very Good</td>\n",
       "      <td>unknown</td>\n",
       "      <td>...</td>\n",
       "      <td>1.78</td>\n",
       "      <td>M</td>\n",
       "      <td>STK</td>\n",
       "      <td>unknown</td>\n",
       "      <td>None</td>\n",
       "      <td>unknown</td>\n",
       "      <td>unknown</td>\n",
       "      <td>unknown</td>\n",
       "      <td>unknown</td>\n",
       "      <td>200</td>\n",
       "    </tr>\n",
       "    <tr>\n",
       "      <th>4</th>\n",
       "      <td>4</td>\n",
       "      <td>Round</td>\n",
       "      <td>E</td>\n",
       "      <td>VVS2</td>\n",
       "      <td>0.09</td>\n",
       "      <td>Very Good</td>\n",
       "      <td>IGI</td>\n",
       "      <td>Very Good</td>\n",
       "      <td>Excellent</td>\n",
       "      <td>unknown</td>\n",
       "      <td>...</td>\n",
       "      <td>1.82</td>\n",
       "      <td>STK</td>\n",
       "      <td>STK</td>\n",
       "      <td>unknown</td>\n",
       "      <td>None</td>\n",
       "      <td>unknown</td>\n",
       "      <td>unknown</td>\n",
       "      <td>unknown</td>\n",
       "      <td>unknown</td>\n",
       "      <td>200</td>\n",
       "    </tr>\n",
       "  </tbody>\n",
       "</table>\n",
       "<p>5 rows × 26 columns</p>\n",
       "</div>"
      ],
      "text/plain": [
       "   Unnamed: 0    cut color clarity  carat_weight cut_quality  lab   symmetry  \\\n",
       "0           0  Round     E    VVS2          0.09   Excellent  IGI  Very Good   \n",
       "1           1  Round     E    VVS2          0.09   Very Good  IGI  Very Good   \n",
       "2           2  Round     E    VVS2          0.09   Excellent  IGI  Very Good   \n",
       "3           3  Round     E    VVS2          0.09   Excellent  IGI  Very Good   \n",
       "4           4  Round     E    VVS2          0.09   Very Good  IGI  Very Good   \n",
       "\n",
       "      polish eye_clean  ... meas_depth girdle_min  girdle_max  fluor_color  \\\n",
       "0  Very Good   unknown  ...       1.79          M           M      unknown   \n",
       "1  Very Good   unknown  ...       1.78        STK         STK      unknown   \n",
       "2  Very Good   unknown  ...       1.77         TN           M      unknown   \n",
       "3  Very Good   unknown  ...       1.78          M         STK      unknown   \n",
       "4  Excellent   unknown  ...       1.82        STK         STK      unknown   \n",
       "\n",
       "   fluor_intensity  fancy_color_dominant_color  fancy_color_secondary_color  \\\n",
       "0             None                     unknown                      unknown   \n",
       "1             None                     unknown                      unknown   \n",
       "2             None                     unknown                      unknown   \n",
       "3             None                     unknown                      unknown   \n",
       "4             None                     unknown                      unknown   \n",
       "\n",
       "  fancy_color_overtone fancy_color_intensity total_sales_price  \n",
       "0              unknown               unknown               200  \n",
       "1              unknown               unknown               200  \n",
       "2              unknown               unknown               200  \n",
       "3              unknown               unknown               200  \n",
       "4              unknown               unknown               200  \n",
       "\n",
       "[5 rows x 26 columns]"
      ]
     },
     "execution_count": 3,
     "metadata": {},
     "output_type": "execute_result"
    }
   ],
   "source": [
    "df = pd.read_csv('diamonds.csv')\n",
    "df.head()"
   ]
  },
  {
   "cell_type": "code",
   "execution_count": 18,
   "metadata": {},
   "outputs": [],
   "source": [
    "#create a new dataframe with only lab GIA\n",
    "df_GIA = df[df['lab'] == 'GIA']\n",
    "\n",
    "#create a new dataframe with only lab IGI\n",
    "df_IGI = df[df['lab'] == 'IGI']\n",
    "\n",
    "#create a new dataframe with only lab HRD\n",
    "df_HRD = df[df['lab'] == 'HRD']"
   ]
  },
  {
   "cell_type": "code",
   "execution_count": 19,
   "metadata": {},
   "outputs": [
    {
     "name": "stdout",
     "output_type": "stream",
     "text": [
      "Lab Ranges\n",
      "\n",
      "GIA: 1449639\n",
      "IGI: 591132\n",
      "HRD: 1121470\n"
     ]
    }
   ],
   "source": [
    "print('Lab Ranges\\n')\n",
    "gia_range = df_GIA['total_sales_price'].agg(get_column_range)\n",
    "#find the range of the total sales price for each lab\n",
    "print(f'GIA: {gia_range}')\n",
    "\n",
    "igi_range = df_IGI['total_sales_price'].agg(get_column_range)\n",
    "print(f'IGI: {igi_range}')\n",
    "\n",
    "hrd_range = df_HRD['total_sales_price'].agg(get_column_range)\n",
    "print(f'HRD: {hrd_range}')"
   ]
  },
  {
   "cell_type": "code",
   "execution_count": 20,
   "metadata": {},
   "outputs": [
    {
     "name": "stdout",
     "output_type": "stream",
     "text": [
      "Lab Means\n",
      "\n",
      "GIA 6731.1869692766695\n",
      "IGI 6536.1348881184995\n",
      "HRD 19056.25205640423\n"
     ]
    }
   ],
   "source": [
    "print('Lab Means\\n')\n",
    "#find the mean of the total sales price for each lab\n",
    "\n",
    "gia_mean = df_GIA['total_sales_price'].mean()\n",
    "print(f'GIA {gia_mean}')\n",
    "\n",
    "igi_mean = df_IGI['total_sales_price'].mean()\n",
    "print(f'IGI {igi_mean}')\n",
    "\n",
    "hrd_mean = df_HRD['total_sales_price'].mean()\n",
    "print(f'HRD {hrd_mean}')"
   ]
  },
  {
   "cell_type": "code",
   "execution_count": 21,
   "metadata": {},
   "outputs": [
    {
     "name": "stdout",
     "output_type": "stream",
     "text": [
      "Lab Medians\n",
      "\n",
      "GIA 1902.0\n",
      "IGI 2046.0\n",
      "HRD 8254.5\n"
     ]
    }
   ],
   "source": [
    "#find the median of the total sales price for each lab\n",
    "print('Lab Medians\\n')\n",
    "gia_median = df_GIA['total_sales_price'].median()\n",
    "print(f'GIA {gia_median}')\n",
    "\n",
    "igi_median = df_IGI['total_sales_price'].median()\n",
    "print(f'IGI {igi_median}')\n",
    "\n",
    "hrd_median = df_HRD['total_sales_price'].median()\n",
    "print(f'HRD {hrd_median}')"
   ]
  },
  {
   "cell_type": "code",
   "execution_count": 32,
   "metadata": {},
   "outputs": [
    {
     "data": {
      "text/plain": [
       "<AxesSubplot:>"
      ]
     },
     "execution_count": 32,
     "metadata": {},
     "output_type": "execute_result"
    },
    {
     "data": {
      "image/png": "[encoded data removed]",
      "text/plain": [
       "<Figure size 432x288 with 1 Axes>"
      ]
     },
     "metadata": {
      "needs_background": "light"
     },
     "output_type": "display_data"
    }
   ],
   "source": [
    "#filter df_GIA to only include diamonds with a total sales price greater than 20000\n",
    "df_GIA_filtered = df_GIA[df_GIA['total_sales_price'] < 20000]\n",
    "\n",
    "df_GIA_filtered['total_sales_price'].hist()"
   ]
  },
  {
   "cell_type": "code",
   "execution_count": 33,
   "metadata": {},
   "outputs": [
    {
     "data": {
      "text/plain": [
       "<AxesSubplot:>"
      ]
     },
     "execution_count": 33,
     "metadata": {},
     "output_type": "execute_result"
    },
    {
     "data": {
      "image/png": "[encoded data removed]",
      "text/plain": [
       "<Figure size 432x288 with 1 Axes>"
      ]
     },
     "metadata": {
      "needs_background": "light"
     },
     "output_type": "display_data"
    }
   ],
   "source": [
    "#do the same thing for IGI\n",
    "df_IGI_filtered = df_IGI[df_IGI['total_sales_price'] < 20000]\n",
    "\n",
    "df_IGI_filtered['total_sales_price'].hist()"
   ]
  },
  {
   "cell_type": "code",
   "execution_count": 35,
   "metadata": {},
   "outputs": [
    {
     "data": {
      "text/plain": [
       "<AxesSubplot:>"
      ]
     },
     "execution_count": 35,
     "metadata": {},
     "output_type": "execute_result"
    },
    {
     "data": {
      "image/png": "[encoded data removed]",
      "text/plain": [
       "<Figure size 432x288 with 1 Axes>"
      ]
     },
     "metadata": {
      "needs_background": "light"
     },
     "output_type": "display_data"
    }
   ],
   "source": [
    "#do the same thing for HRD\n",
    "df_HRD_filtered = df_HRD[df_HRD['total_sales_price'] < 100000]\n",
    "\n",
    "df_HRD_filtered['total_sales_price'].hist()\n"
   ]
  },
  {
   "cell_type": "code",
   "execution_count": 36,
   "metadata": {},
   "outputs": [
    {
     "data": {
      "text/html": [
       "<div>\n",
       "<style scoped>\n",
       "    .dataframe tbody tr th:only-of-type {\n",
       "        vertical-align: middle;\n",
       "    }\n",
       "\n",
       "    .dataframe tbody tr th {\n",
       "        vertical-align: top;\n",
       "    }\n",
       "\n",
       "    .dataframe thead th {\n",
       "        text-align: right;\n",
       "    }\n",
       "</style>\n",
       "<table border=\"1\" class=\"dataframe\">\n",
       "  <thead>\n",
       "    <tr style=\"text-align: right;\">\n",
       "      <th></th>\n",
       "      <th>total_sales_price</th>\n",
       "      <th>GIA</th>\n",
       "      <th>IGI</th>\n",
       "      <th>HRD</th>\n",
       "    </tr>\n",
       "  </thead>\n",
       "  <tbody>\n",
       "    <tr>\n",
       "      <th>total_sales_price</th>\n",
       "      <td>1.000000</td>\n",
       "      <td>-0.021975</td>\n",
       "      <td>-0.003997</td>\n",
       "      <td>0.058706</td>\n",
       "    </tr>\n",
       "    <tr>\n",
       "      <th>GIA</th>\n",
       "      <td>-0.021975</td>\n",
       "      <td>1.000000</td>\n",
       "      <td>-0.899774</td>\n",
       "      <td>-0.404598</td>\n",
       "    </tr>\n",
       "    <tr>\n",
       "      <th>IGI</th>\n",
       "      <td>-0.003997</td>\n",
       "      <td>-0.899774</td>\n",
       "      <td>1.000000</td>\n",
       "      <td>-0.034998</td>\n",
       "    </tr>\n",
       "    <tr>\n",
       "      <th>HRD</th>\n",
       "      <td>0.058706</td>\n",
       "      <td>-0.404598</td>\n",
       "      <td>-0.034998</td>\n",
       "      <td>1.000000</td>\n",
       "    </tr>\n",
       "  </tbody>\n",
       "</table>\n",
       "</div>"
      ],
      "text/plain": [
       "                   total_sales_price       GIA       IGI       HRD\n",
       "total_sales_price           1.000000 -0.021975 -0.003997  0.058706\n",
       "GIA                        -0.021975  1.000000 -0.899774 -0.404598\n",
       "IGI                        -0.003997 -0.899774  1.000000 -0.034998\n",
       "HRD                         0.058706 -0.404598 -0.034998  1.000000"
      ]
     },
     "execution_count": 36,
     "metadata": {},
     "output_type": "execute_result"
    }
   ],
   "source": [
    "#find out if which lab the diamond is certified by has an effect on the total sales price\n",
    "#first, create a new column that is a boolean value for whether the diamond is certified by GIA\n",
    "df['GIA'] = df['lab'] == 'GIA'\n",
    "\n",
    "#do the same thing for IGI\n",
    "df['IGI'] = df['lab'] == 'IGI'\n",
    "\n",
    "#do the same thing for HRD\n",
    "df['HRD'] = df['lab'] == 'HRD'\n",
    "\n",
    "#find the correlation between the total sales price and the boolean values for GIA, IGI, and HRD\n",
    "df[['total_sales_price', 'GIA', 'IGI', 'HRD']].corr()\n",
    "\n",
    "#the correlation between the total sales price and the boolean values for GIA, IGI, and HRD is very low"
   ]
  },
  {
   "cell_type": "code",
   "execution_count": 44,
   "metadata": {},
   "outputs": [
    {
     "data": {
      "text/plain": [
       "cut\n",
       "Asscher             8115.0\n",
       "Cushion             8288.0\n",
       "Cushion Modified    6480.0\n",
       "Emerald             3704.0\n",
       "Heart               3556.0\n",
       "Marquise            1998.0\n",
       "Oval                4279.0\n",
       "Pear                3628.0\n",
       "Princess            4063.0\n",
       "Radiant             6286.0\n",
       "Round               1370.0\n",
       "Name: total_sales_price, dtype: float64"
      ]
     },
     "execution_count": 44,
     "metadata": {},
     "output_type": "execute_result"
    }
   ],
   "source": [
    "#find the correlation between the total sales price and the cut\n",
    "#first, create a new column that is a boolean value for each type of cut\n",
    "df['Round'] = df['cut'] == 'Round'\n",
    "df['Princess'] = df['cut'] == 'Princess'\n",
    "df['Cushion'] = df['cut'] == 'Cushion'\n",
    "df['Emerald'] = df['cut'] == 'Emerald'\n",
    "df['Asscher'] = df['cut'] == 'Asscher'\n",
    "df['Radiant'] = df['cut'] == 'Radiant'\n",
    "df['Oval'] = df['cut'] == 'Oval'\n",
    "df['Pear'] = df['cut'] == 'Pear'\n",
    "df['Marquise'] = df['cut'] == 'Marquise'\n",
    "df['Heart'] = df['cut'] == 'Heart'\n",
    "\n",
    "#find the average total sales price for each type of cut\n",
    "df.groupby('cut')['total_sales_price'].median()\n",
    "\n",
    "#find the correlation between the total sales price and the boolean values for each type of cut\n",
    "#df[['total_sales_price', 'Round', 'Princess', 'Cushion', 'Emerald', 'Asscher', 'Radiant', 'Oval', 'Pear', 'Marquise', 'Heart']].corr()\n",
    "\n",
    "#interpret the data\n",
    "#the correlation between the total sales price and the boolean values for each type of cut is very low"
   ]
  },
  {
   "cell_type": "code",
   "execution_count": 45,
   "metadata": {},
   "outputs": [
    {
     "data": {
      "text/plain": [
       "color\n",
       "D          1584.0\n",
       "E          1242.0\n",
       "F          1510.0\n",
       "G          2331.0\n",
       "H          2692.0\n",
       "I          2294.0\n",
       "J          1998.0\n",
       "K          1630.0\n",
       "L          1890.0\n",
       "M          2280.0\n",
       "unknown    6932.0\n",
       "Name: total_sales_price, dtype: float64"
      ]
     },
     "execution_count": 45,
     "metadata": {},
     "output_type": "execute_result"
    }
   ],
   "source": [
    "#find the correlation between the total sales price and the color\n",
    "#first, create a new column that is a boolean value for each type of color\n",
    "df['D'] = df['color'] == 'D'\n",
    "df['E'] = df['color'] == 'E'\n",
    "df['F'] = df['color'] == 'F'\n",
    "df['G'] = df['color'] == 'G'\n",
    "df['H'] = df['color'] == 'H'\n",
    "df['I'] = df['color'] == 'I'\n",
    "df['J'] = df['color'] == 'J'\n",
    "df['K'] = df['color'] == 'K'\n",
    "df['L'] = df['color'] == 'L'\n",
    "df['M'] = df['color'] == 'M'\n",
    "df['N'] = df['color'] == 'N'\n",
    "df['O'] = df['color'] == 'O'\n",
    "df['P'] = df['color'] == 'P'\n",
    "df['Q'] = df['color'] == 'Q'\n",
    "df['R'] = df['color'] == 'R'\n",
    "df['S'] = df['color'] == 'S'\n",
    "df['T'] = df['color'] == 'T'\n",
    "df['U'] = df['color'] == 'U'\n",
    "df['V'] = df['color'] == 'V'\n",
    "df['W'] = df['color'] == 'W'\n",
    "df['X'] = df['color'] == 'X'\n",
    "df['Y'] = df['color'] == 'Y'\n",
    "df['Z'] = df['color'] == 'Z'\n",
    "\n",
    "#find the median total sales price for each type of color\n",
    "df.groupby('color')['total_sales_price'].median()\n",
    "\n",
    "#find the correlation between the total sales price and the boolean values for each type of color\n",
    "#df[['total_sales_price', 'D', 'E', 'F', 'G', 'H', 'I', 'J', 'K', 'L', 'M', 'N', 'O', 'P', 'Q', 'R', 'S', 'T', 'U', 'V', 'W', 'X', 'Y', 'Z']].corr()\n"
   ]
  },
  {
   "cell_type": "code",
   "execution_count": 46,
   "metadata": {},
   "outputs": [
    {
     "data": {
      "text/plain": [
       "clarity\n",
       "I1      3068.0\n",
       "I2      3053.0\n",
       "I3      2250.0\n",
       "IF      1836.0\n",
       "SI1     2136.0\n",
       "SI2     2424.0\n",
       "SI3      329.0\n",
       "VS1     2040.0\n",
       "VS2     2176.0\n",
       "VVS1    1446.0\n",
       "VVS2    1530.0\n",
       "Name: total_sales_price, dtype: float64"
      ]
     },
     "execution_count": 46,
     "metadata": {},
     "output_type": "execute_result"
    }
   ],
   "source": [
    "#find the correlation between the total sales price and the clarity\n",
    "#first, create a new column that is a boolean value for each type of clarity\n",
    "df['FL'] = df['clarity'] == 'FL'\n",
    "df['IF'] = df['clarity'] == 'IF'\n",
    "df['VVS1'] = df['clarity'] == 'VVS1'\n",
    "df['VVS2'] = df['clarity'] == 'VVS2'\n",
    "df['VS1'] = df['clarity'] == 'VS1'\n",
    "df['VS2'] = df['clarity'] == 'VS2'\n",
    "df['SI1'] = df['clarity'] == 'SI1'\n",
    "df['SI2'] = df['clarity'] == 'SI2'\n",
    "df['I1'] = df['clarity'] == 'I1'\n",
    "df['I2'] = df['clarity'] == 'I2'\n",
    "df['I3'] = df['clarity'] == 'I3'\n",
    "\n",
    "#find the median total sales price for each type of clarity\n",
    "df.groupby('clarity')['total_sales_price'].median()\n",
    "\n",
    "\n",
    "#find the average total sales price for each type of clarity\n",
    "#df.groupby('clarity')['total_sales_price'].mean()\n",
    "#find the correlation between the total sales price and the boolean values for each type of clarity\n",
    "#df[['total_sales_price', 'FL', 'IF', 'VVS1', 'VVS2', 'VS1', 'VS2', 'SI1', 'SI2', 'I1', 'I2', 'I3']].corr()\n"
   ]
  },
  {
   "cell_type": "code",
   "execution_count": 56,
   "metadata": {},
   "outputs": [
    {
     "name": "stdout",
     "output_type": "stream",
     "text": [
      "   Unnamed: 0    cut color clarity  carat_weight cut_quality  lab   symmetry  \\\n",
      "0           0  Round     E    VVS2          0.09   Excellent  IGI  Very Good   \n",
      "1           1  Round     E    VVS2          0.09   Very Good  IGI  Very Good   \n",
      "2           2  Round     E    VVS2          0.09   Excellent  IGI  Very Good   \n",
      "3           3  Round     E    VVS2          0.09   Excellent  IGI  Very Good   \n",
      "4           4  Round     E    VVS2          0.09   Very Good  IGI  Very Good   \n",
      "\n",
      "      polish eye_clean  ... meas_depth girdle_min  girdle_max  fluor_color  \\\n",
      "0  Very Good   unknown  ...       1.79          M           M      unknown   \n",
      "1  Very Good   unknown  ...       1.78        STK         STK      unknown   \n",
      "2  Very Good   unknown  ...       1.77         TN           M      unknown   \n",
      "3  Very Good   unknown  ...       1.78          M         STK      unknown   \n",
      "4  Excellent   unknown  ...       1.82        STK         STK      unknown   \n",
      "\n",
      "   fluor_intensity  fancy_color_dominant_color  fancy_color_secondary_color  \\\n",
      "0             None                     unknown                      unknown   \n",
      "1             None                     unknown                      unknown   \n",
      "2             None                     unknown                      unknown   \n",
      "3             None                     unknown                      unknown   \n",
      "4             None                     unknown                      unknown   \n",
      "\n",
      "  fancy_color_overtone fancy_color_intensity total_sales_price  \n",
      "0              unknown               unknown               200  \n",
      "1              unknown               unknown               200  \n",
      "2              unknown               unknown               200  \n",
      "3              unknown               unknown               200  \n",
      "4              unknown               unknown               200  \n",
      "\n",
      "[5 rows x 26 columns]\n",
      "Index(['Unnamed: 0', 'cut', 'color', 'clarity', 'carat_weight', 'cut_quality',\n",
      "       'lab', 'symmetry', 'polish', 'eye_clean', 'culet_size',\n",
      "       'culet_condition', 'depth_percent', 'table_percent', 'meas_length',\n",
      "       'meas_width', 'meas_depth', 'girdle_min', 'girdle_max', 'fluor_color',\n",
      "       'fluor_intensity', 'fancy_color_dominant_color',\n",
      "       'fancy_color_secondary_color', 'fancy_color_overtone',\n",
      "       'fancy_color_intensity', 'total_sales_price'],\n",
      "      dtype='object')\n",
      "          Unnamed: 0   carat_weight  depth_percent  table_percent  \\\n",
      "count  219703.000000  219703.000000  219703.000000  219703.000000   \n",
      "mean   109851.747418       0.755176      61.683768      57.747585   \n",
      "std     63423.264419       0.845894       9.915266       9.959928   \n",
      "min         0.000000       0.080000       0.000000       0.000000   \n",
      "25%     54925.500000       0.310000      61.200000      57.000000   \n",
      "50%    109852.000000       0.500000      62.400000      58.000000   \n",
      "75%    164777.500000       1.000000      63.500000      60.000000   \n",
      "max    219703.000000      19.350000      98.700000      94.000000   \n",
      "\n",
      "         meas_length     meas_width     meas_depth  total_sales_price  \n",
      "count  219703.000000  219703.000000  219703.000000       2.197030e+05  \n",
      "mean        5.548853       5.135626       3.285699       6.908062e+03  \n",
      "std         1.763924       1.374529       2.054822       2.595949e+04  \n",
      "min         0.000000       0.000000       0.000000       2.000000e+02  \n",
      "25%         4.350000       4.310000       2.680000       9.580000e+02  \n",
      "50%         5.060000       4.800000       3.030000       1.970000e+03  \n",
      "75%         6.350000       5.700000       3.630000       5.207000e+03  \n",
      "max        93.660000      62.300000      76.300000       1.449881e+06  \n"
     ]
    }
   ],
   "source": [
    "# Load the dataset\n",
    "df = pd.read_csv('diamonds.csv')\n",
    "\n",
    "# Display the first few rows\n",
    "print(df.head())\n",
    "\n",
    "# Display column names\n",
    "print(df.columns)\n",
    "\n",
    "# Display a summary of the dataset\n",
    "print(df.describe())"
   ]
  },
  {
   "cell_type": "code",
   "execution_count": 57,
   "metadata": {},
   "outputs": [
    {
     "data": {
      "text/plain": [
       "Round               158316\n",
       "Oval                 13857\n",
       "Emerald              11091\n",
       "Pear                  9860\n",
       "Princess              7050\n",
       "Radiant               5630\n",
       "Heart                 4774\n",
       "Cushion Modified      3984\n",
       "Marquise              2916\n",
       "Asscher               1696\n",
       "Cushion                529\n",
       "Name: cut, dtype: int64"
      ]
     },
     "execution_count": 57,
     "metadata": {},
     "output_type": "execute_result"
    }
   ],
   "source": [
    "df['cut'].value_counts()"
   ]
  },
  {
   "cell_type": "code",
   "execution_count": 59,
   "metadata": {},
   "outputs": [
    {
     "name": "stdout",
     "output_type": "stream",
     "text": [
      "Mean Squared Error: 599818.9365785385\n",
      "Root Mean Squared Error: 774.4797844866827\n",
      "R2 Score: 0.8994962918148413\n"
     ]
    }
   ],
   "source": [
    "import pandas as pd\n",
    "import numpy as np\n",
    "from sklearn.model_selection import train_test_split\n",
    "from sklearn.preprocessing import OneHotEncoder, StandardScaler\n",
    "from sklearn.compose import ColumnTransformer\n",
    "from sklearn.pipeline import Pipeline\n",
    "from sklearn.linear_model import LinearRegression\n",
    "from sklearn.metrics import mean_squared_error, r2_score\n",
    "\n",
    "# Function to remove outliers using IQR method\n",
    "def remove_outliers_iqr(df, column, multiplier=1.5):\n",
    "    Q1 = df[column].quantile(0.25)\n",
    "    Q3 = df[column].quantile(0.75)\n",
    "    IQR = Q3 - Q1\n",
    "    lower_bound = Q1 - multiplier * IQR\n",
    "    upper_bound = Q3 + multiplier * IQR\n",
    "    return df[(df[column] >= lower_bound) & (df[column] <= upper_bound)]\n",
    "\n",
    "# Load the CSV file into a pandas dataframe\n",
    "df = pd.read_csv('diamonds.csv')\n",
    "\n",
    "# Remove outliers for 'total_sales_price' column\n",
    "df = remove_outliers_iqr(df, 'total_sales_price')\n",
    "\n",
    "# Split the data into training and testing sets\n",
    "X_train, X_test, y_train, y_test = train_test_split(df.drop('total_sales_price', axis=1), df['total_sales_price'], test_size=0.2, random_state=42)\n",
    "\n",
    "# Preprocess the data using column transformers and pipelines\n",
    "numeric_transformer = Pipeline(steps=[\n",
    "    ('scaler', StandardScaler())\n",
    "])\n",
    "\n",
    "categorical_transformer = Pipeline(steps=[\n",
    "    ('onehot', OneHotEncoder(handle_unknown='ignore'))\n",
    "])\n",
    "\n",
    "preprocessor = ColumnTransformer(transformers=[\n",
    "    ('num', numeric_transformer, ['carat_weight', 'meas_depth']),\n",
    "    ('cat', categorical_transformer, ['cut', 'color', 'clarity', 'cut_quality', 'lab', 'symmetry', 'polish', 'eye_clean', 'girdle_min', 'girdle_max', 'fluor_color', 'fluor_intensity', 'fancy_color_dominant_color', 'fancy_color_secondary_color', 'fancy_color_overtone', 'fancy_color_intensity'])\n",
    "])\n",
    "\n",
    "# Train and evaluate the model\n",
    "model = Pipeline(steps=[\n",
    "    ('preprocessor', preprocessor),\n",
    "    ('regressor', LinearRegression())\n",
    "])\n",
    "\n",
    "model.fit(X_train, y_train)\n",
    "y_pred = model.predict(X_test)\n",
    "\n",
    "print('Mean Squared Error:', mean_squared_error(y_test, y_pred))\n",
    "print('Root Mean Squared Error:', np.sqrt(mean_squared_error(y_test, y_pred)))\n",
    "print('R2 Score:', r2_score(y_test, y_pred))"
   ]
  },
  {
   "cell_type": "code",
   "execution_count": 60,
   "metadata": {},
   "outputs": [
    {
     "data": {
      "image/png": "[encoded data removed]",
      "text/plain": [
       "<Figure size 432x288 with 1 Axes>"
      ]
     },
     "metadata": {
      "needs_background": "light"
     },
     "output_type": "display_data"
    }
   ],
   "source": [
    "import matplotlib.pyplot as plt\n",
    "\n",
    "plt.scatter(y_test, y_pred)\n",
    "plt.plot([y_test.min(), y_test.max()], [y_test.min(), y_test.max()], 'r--')\n",
    "plt.xlabel('Actual Total Sales Price')\n",
    "plt.ylabel('Predicted Total Sales Price')\n",
    "plt.title('Linear Regression')\n",
    "plt.show()"
   ]
  },
  {
   "cell_type": "code",
   "execution_count": 61,
   "metadata": {},
   "outputs": [
    {
     "name": "stdout",
     "output_type": "stream",
     "text": [
      "Mean Squared Error: 367245569.7618838\n",
      "Root Mean Squared Error: 19163.652307477398\n",
      "R2 Score: 0.5272214458975548\n"
     ]
    }
   ],
   "source": [
    "import pandas as pd\n",
    "from sklearn.model_selection import train_test_split\n",
    "from sklearn.linear_model import LinearRegression\n",
    "from sklearn.metrics import mean_squared_error, r2_score\n",
    "\n",
    "# Load the CSV file into a pandas dataframe\n",
    "df = pd.read_csv('diamonds.csv')\n",
    "\n",
    "# Select the columns of interest\n",
    "X = df[['carat_weight']]\n",
    "y = df['total_sales_price']\n",
    "\n",
    "# Split the data into training and testing sets\n",
    "X_train, X_test, y_train, y_test = train_test_split(X, y, test_size=0.2, random_state=42)\n",
    "\n",
    "# Train the model using the training data\n",
    "model = LinearRegression()\n",
    "model.fit(X_train, y_train)\n",
    "\n",
    "# Predict the diamond prices using the testing data\n",
    "y_pred = model.predict(X_test)\n",
    "\n",
    "# Evaluate the performance of the model\n",
    "print('Mean Squared Error:', mean_squared_error(y_test, y_pred))\n",
    "print('Root Mean Squared Error:', np.sqrt(mean_squared_error(y_test, y_pred)))\n",
    "print('R2 Score:', r2_score(y_test, y_pred))"
   ]
  },
  {
   "cell_type": "markdown",
   "metadata": {},
   "source": [
    "This code selects the 'carat_weight', 'cut', 'color', and 'clarity' columns as features for the regression model"
   ]
  },
  {
   "cell_type": "code",
   "execution_count": 63,
   "metadata": {},
   "outputs": [
    {
     "name": "stdout",
     "output_type": "stream",
     "text": [
      "Mean Squared Error: 833583.7332964711\n",
      "Root Mean Squared Error: 913.0080685823489\n",
      "R2 Score: 0.8603274235438313\n"
     ]
    }
   ],
   "source": [
    "import pandas as pd\n",
    "from sklearn.model_selection import train_test_split\n",
    "from sklearn.compose import ColumnTransformer\n",
    "from sklearn.pipeline import Pipeline\n",
    "from sklearn.linear_model import LinearRegression\n",
    "from sklearn.metrics import mean_squared_error, r2_score\n",
    "from sklearn.preprocessing import OneHotEncoder, StandardScaler\n",
    "import numpy as np\n",
    "\n",
    "# Load the CSV file into a pandas dataframe\n",
    "df = pd.read_csv('diamonds.csv')\n",
    "\n",
    "# Remove the outliers from the 'total_sales_price' column\n",
    "q1 = df['total_sales_price'].quantile(0.25)\n",
    "q3 = df['total_sales_price'].quantile(0.75)\n",
    "iqr = q3 - q1\n",
    "lower_bound = q1 - 1.5*iqr\n",
    "upper_bound = q3 + 1.5*iqr\n",
    "df = df[(df['total_sales_price'] >= lower_bound) & (df['total_sales_price'] <= upper_bound)]\n",
    "\n",
    "# Select the features and target variable\n",
    "X = df[['carat_weight', 'cut', 'color', 'clarity']]\n",
    "y = df['total_sales_price']\n",
    "\n",
    "# Split the data into training and testing sets\n",
    "X_train, X_test, y_train, y_test = train_test_split(X, y, test_size=0.2, random_state=42)\n",
    "\n",
    "# Preprocess the data using column transformers and pipelines\n",
    "numeric_transformer = Pipeline(steps=[\n",
    "    ('scaler', StandardScaler())\n",
    "])\n",
    "\n",
    "categorical_transformer = Pipeline(steps=[\n",
    "    ('onehot', OneHotEncoder(handle_unknown='ignore'))\n",
    "])\n",
    "\n",
    "preprocessor = ColumnTransformer(transformers=[\n",
    "    ('num', numeric_transformer, ['carat_weight']),\n",
    "    ('cat', categorical_transformer, ['cut', 'color', 'clarity'])\n",
    "])\n",
    "\n",
    "# Train the model using the training data\n",
    "model = Pipeline(steps=[\n",
    "    ('preprocessor', preprocessor),\n",
    "    ('regressor', LinearRegression())\n",
    "])\n",
    "\n",
    "model.fit(X_train, y_train)\n",
    "\n",
    "# Predict the diamond prices using the testing data\n",
    "y_pred = model.predict(X_test)\n",
    "\n",
    "# Evaluate the performance of the model\n",
    "print('Mean Squared Error:', mean_squared_error(y_test, y_pred))\n",
    "print('Root Mean Squared Error:', np.sqrt(mean_squared_error(y_test, y_pred)))\n",
    "print('R2 Score:', r2_score(y_test, y_pred))"
   ]
  },
  {
   "cell_type": "code",
   "execution_count": 64,
   "metadata": {},
   "outputs": [
    {
     "name": "stdout",
     "output_type": "stream",
     "text": [
      "Mean Squared Error: 798058.3512227222\n",
      "Root Mean Squared Error: 893.3411169439825\n",
      "R2 Score: 0.8662799409042745\n"
     ]
    }
   ],
   "source": [
    "import pandas as pd\n",
    "from sklearn.model_selection import train_test_split\n",
    "from sklearn.compose import ColumnTransformer\n",
    "from sklearn.pipeline import Pipeline\n",
    "from sklearn.linear_model import LinearRegression\n",
    "from sklearn.metrics import mean_squared_error, r2_score\n",
    "from sklearn.preprocessing import OneHotEncoder, StandardScaler, PolynomialFeatures\n",
    "import numpy as np\n",
    "\n",
    "# Load the CSV file into a pandas dataframe\n",
    "df = pd.read_csv('diamonds.csv')\n",
    "\n",
    "# Remove the outliers from the 'total_sales_price' column\n",
    "q1 = df['total_sales_price'].quantile(0.25)\n",
    "q3 = df['total_sales_price'].quantile(0.75)\n",
    "iqr = q3 - q1\n",
    "lower_bound = q1 - 1.5*iqr\n",
    "upper_bound = q3 + 1.5*iqr\n",
    "df = df[(df['total_sales_price'] >= lower_bound) & (df['total_sales_price'] <= upper_bound)]\n",
    "\n",
    "# Select the features and target variable\n",
    "X = df[['carat_weight', 'cut', 'color', 'clarity']]\n",
    "y = df['total_sales_price']\n",
    "\n",
    "# Split the data into training and testing sets\n",
    "X_train, X_test, y_train, y_test = train_test_split(X, y, test_size=0.2, random_state=42)\n",
    "\n",
    "# Preprocess the data using column transformers and pipelines\n",
    "numeric_transformer = Pipeline(steps=[\n",
    "    ('scaler', StandardScaler()),\n",
    "    ('poly', PolynomialFeatures(degree=2))\n",
    "])\n",
    "\n",
    "categorical_transformer = Pipeline(steps=[\n",
    "    ('onehot', OneHotEncoder(handle_unknown='ignore'))\n",
    "])\n",
    "\n",
    "preprocessor = ColumnTransformer(transformers=[\n",
    "    ('num', numeric_transformer, ['carat_weight']),\n",
    "    ('cat', categorical_transformer, ['cut', 'color', 'clarity'])\n",
    "])\n",
    "\n",
    "# Train the model using the training data\n",
    "model = Pipeline(steps=[\n",
    "    ('preprocessor', preprocessor),\n",
    "    ('regressor', LinearRegression())\n",
    "])\n",
    "\n",
    "model.fit(X_train, y_train)\n",
    "\n",
    "# Predict the diamond prices using the testing data\n",
    "y_pred = model.predict(X_test)\n",
    "\n",
    "# Evaluate the performance of the model\n",
    "print('Mean Squared Error:', mean_squared_error(y_test, y_pred))\n",
    "print('Root Mean Squared Error:', np.sqrt(mean_squared_error(y_test, y_pred)))\n",
    "print('R2 Score:', r2_score(y_test, y_pred))"
   ]
  },
  {
   "cell_type": "code",
   "execution_count": 70,
   "metadata": {},
   "outputs": [
    {
     "name": "stdout",
     "output_type": "stream",
     "text": [
      "                            OLS Regression Results                            \n",
      "==============================================================================\n",
      "Dep. Variable:      total_sales_price   R-squared:                       0.863\n",
      "Model:                            OLS   Adj. R-squared:                  0.863\n",
      "Method:                 Least Squares   F-statistic:                 3.915e+04\n",
      "Date:                Sun, 09 Apr 2023   Prob (F-statistic):               0.00\n",
      "Time:                        19:07:29   Log-Likelihood:            -1.5828e+06\n",
      "No. Observations:              192373   AIC:                         3.166e+06\n",
      "Df Residuals:                  192341   BIC:                         3.166e+06\n",
      "Df Model:                          31                                         \n",
      "Covariance Type:            nonrobust                                         \n",
      "========================================================================================\n",
      "                           coef    std err          t      P>|t|      [0.025      0.975]\n",
      "----------------------------------------------------------------------------------------\n",
      "const                -2741.9879     31.814    -86.189      0.000   -2804.342   -2679.634\n",
      "carat_weight          7907.9437      7.649   1033.823      0.000    7892.951    7922.936\n",
      "cut_Cushion           -281.9869     59.780     -4.717      0.000    -399.154    -164.820\n",
      "cut_Cushion Modified  -792.8524     36.738    -21.581      0.000    -864.859    -720.846\n",
      "cut_Emerald           -263.2790     29.455     -8.938      0.000    -321.009    -205.549\n",
      "cut_Heart             -134.3381     31.309     -4.291      0.000    -195.703     -72.973\n",
      "cut_Marquise            -6.8423     33.103     -0.207      0.836     -71.724      58.039\n",
      "cut_Oval               -52.6996     29.222     -1.803      0.071    -109.975       4.575\n",
      "cut_Pear               -40.9148     29.756     -1.375      0.169     -99.235      17.405\n",
      "cut_Princess          -232.8115     30.271     -7.691      0.000    -292.142    -173.481\n",
      "cut_Radiant           -301.1378     31.561     -9.541      0.000    -362.998    -239.278\n",
      "cut_Round              511.3303     28.123     18.182      0.000     456.209     566.451\n",
      "color_E                -92.1357      7.557    -12.193      0.000    -106.947     -77.325\n",
      "color_F               -132.4401      7.669    -17.270      0.000    -147.471    -117.410\n",
      "color_G               -187.8381      7.925    -23.702      0.000    -203.371    -172.306\n",
      "color_H               -359.0801      8.209    -43.744      0.000    -375.169    -342.991\n",
      "color_I               -660.7767      8.558    -77.212      0.000    -677.550    -644.003\n",
      "color_J              -1043.3076      9.351   -111.568      0.000   -1061.636   -1024.979\n",
      "color_K              -1477.0007     10.531   -140.249      0.000   -1497.642   -1456.360\n",
      "color_L              -1976.0899     13.981   -141.340      0.000   -2003.492   -1948.687\n",
      "color_M              -2487.9867     18.425   -135.033      0.000   -2524.099   -2451.874\n",
      "color_unknown          749.6999     17.550     42.717      0.000     715.302     784.098\n",
      "clarity_I2            -858.3750     32.689    -26.259      0.000    -922.444    -794.306\n",
      "clarity_I3           -1544.8437     98.983    -15.607      0.000   -1738.848   -1350.840\n",
      "clarity_IF            1668.8476     15.220    109.649      0.000    1639.017    1698.678\n",
      "clarity_SI1            966.3671     12.602     76.683      0.000     941.667     991.067\n",
      "clarity_SI2            601.6547     12.777     47.087      0.000     576.611     626.698\n",
      "clarity_SI3            793.2485    286.803      2.766      0.006     231.122    1355.375\n",
      "clarity_VS1           1338.4340     12.729    105.148      0.000    1313.485    1363.383\n",
      "clarity_VS2           1244.6663     12.648     98.407      0.000    1219.876    1269.456\n",
      "clarity_VVS1          1495.5159     13.059    114.516      0.000    1469.920    1521.112\n",
      "clarity_VVS2          1401.0146     13.009    107.700      0.000    1375.518    1426.511\n",
      "==============================================================================\n",
      "Omnibus:                    87346.245   Durbin-Watson:                   1.127\n",
      "Prob(Omnibus):                  0.000   Jarque-Bera (JB):          4668462.522\n",
      "Skew:                           1.418   Prob(JB):                         0.00\n",
      "Kurtosis:                      26.966   Cond. No.                         204.\n",
      "==============================================================================\n",
      "\n",
      "Notes:\n",
      "[1] Standard Errors assume that the covariance matrix of the errors is correctly specified.\n"
     ]
    }
   ],
   "source": [
    "import pandas as pd\n",
    "import numpy as np\n",
    "import statsmodels.api as sm\n",
    "\n",
    "# Load the dataset\n",
    "df = pd.read_csv(\"diamonds.csv\")\n",
    "\n",
    "# Remove outliers\n",
    "q1 = df['total_sales_price'].quantile(0.25)\n",
    "q3 = df['total_sales_price'].quantile(0.75)\n",
    "iqr = q3 - q1\n",
    "lower_bound = q1 - (1.5 * iqr)\n",
    "upper_bound = q3 + (1.5 * iqr)\n",
    "df = df[(df['total_sales_price'] >= lower_bound) & (df['total_sales_price'] <= upper_bound)]\n",
    "\n",
    "# Select the features and target variable\n",
    "X = df[['carat_weight', 'cut', 'color', 'clarity']]\n",
    "y = df['total_sales_price']\n",
    "\n",
    "# Convert categorical variables to dummy variables\n",
    "X = pd.get_dummies(X, drop_first=True)\n",
    "\n",
    "# Add a constant term to the independent variables\n",
    "X = sm.add_constant(X)\n",
    "\n",
    "# Fit the model using OLS regression\n",
    "model = sm.OLS(y, X).fit()\n",
    "\n",
    "# Print the model summary\n",
    "print(model.summary())"
   ]
  },
  {
   "cell_type": "code",
   "execution_count": 74,
   "metadata": {},
   "outputs": [
    {
     "name": "stdout",
     "output_type": "stream",
     "text": [
      "Feature ranking:\n",
      "1. carat_weight: 0.855\n",
      "2. cut_Round: 0.016\n",
      "3. color_unknown: 0.014\n",
      "4. color_K: 0.013\n",
      "5. color_L: 0.012\n",
      "6. clarity_SI2: 0.011\n",
      "7. color_J: 0.011\n",
      "8. color_M: 0.01\n",
      "9. clarity_SI1: 0.007\n",
      "10. clarity_VS2: 0.007\n",
      "11. color_I: 0.007\n",
      "12. clarity_VVS1: 0.005\n",
      "13. clarity_VS1: 0.005\n",
      "14. clarity_IF: 0.005\n",
      "15. clarity_I2: 0.004\n",
      "16. clarity_VVS2: 0.004\n",
      "17. color_H: 0.004\n",
      "18. color_G: 0.001\n",
      "19. cut_Oval: 0.001\n",
      "20. cut_Pear: 0.001\n",
      "21. cut_Cushion Modified: 0.001\n",
      "22. cut_Radiant: 0.001\n",
      "23. cut_Heart: 0.001\n",
      "24. cut_Emerald: 0.001\n",
      "25. color_F: 0.001\n",
      "26. cut_Marquise: 0.001\n",
      "27. color_E: 0.001\n",
      "28. cut_Princess: 0.0\n",
      "29. clarity_I3: 0.0\n",
      "30. cut_Cushion: 0.0\n",
      "31. clarity_SI3: 0.0\n"
     ]
    }
   ],
   "source": [
    "from sklearn.ensemble import RandomForestRegressor\n",
    "\n",
    "# Create a new Random Forest model\n",
    "model = RandomForestRegressor()\n",
    "\n",
    "# Select the features and target variable\n",
    "X = df[['carat_weight', 'cut', 'color', 'clarity']]\n",
    "y = df['total_sales_price']\n",
    "\n",
    "# One-hot encode the categorical variables\n",
    "X = pd.get_dummies(X, drop_first=True)\n",
    "\n",
    "# Train the model using the data\n",
    "model.fit(X, y)\n",
    "\n",
    "# Calculate feature importances\n",
    "importances = model.feature_importances_\n",
    "indices = np.argsort(importances)[::-1]\n",
    "\n",
    "# Print the feature ranking\n",
    "print(\"Feature ranking:\")\n",
    "\n",
    "for f in range(X.shape[1]):\n",
    "    print(f\"{f+1}. {X.columns[indices[f]]}: {round(importances[indices[f]], 3)}\")"
   ]
  },
  {
   "cell_type": "code",
   "execution_count": 79,
   "metadata": {},
   "outputs": [
    {
     "data": {
      "image/png": "[encoded data removed]",
      "text/plain": [
       "<Figure size 432x288 with 1 Axes>"
      ]
     },
     "metadata": {
      "needs_background": "light"
     },
     "output_type": "display_data"
    },
    {
     "name": "stdout",
     "output_type": "stream",
     "text": [
      "The coefficient for the squared term (carat_weight^2) is 1420.99\n",
      "The coefficient for the linear term (carat_weight) is 13113.76\n",
      "The intercept is -4847.20\n",
      "The R-squared value is 0.59\n"
     ]
    }
   ],
   "source": [
    "import pandas as pd\n",
    "import numpy as np\n",
    "import matplotlib.pyplot as plt\n",
    "from sklearn.preprocessing import PolynomialFeatures\n",
    "from sklearn.linear_model import LinearRegression\n",
    "\n",
    "# Read in the data\n",
    "df = pd.read_csv('diamonds.csv')\n",
    "\n",
    "# Select the features and target variable\n",
    "X = df['carat_weight'].values.reshape(-1, 1)\n",
    "y = df['total_sales_price'].values\n",
    "\n",
    "# Split the data into training and testing sets\n",
    "from sklearn.model_selection import train_test_split\n",
    "X_train, X_test, y_train, y_test = train_test_split(X, y, test_size=0.3, random_state=42)\n",
    "\n",
    "# Perform polynomial regression\n",
    "poly_reg = PolynomialFeatures(degree=2)\n",
    "X_poly_train = poly_reg.fit_transform(X_train)\n",
    "X_poly_test = poly_reg.transform(X_test)\n",
    "regressor = LinearRegression()\n",
    "regressor.fit(X_poly_train, y_train)\n",
    "\n",
    "# Make predictions on the test set\n",
    "y_pred = regressor.predict(X_poly_test)\n",
    "\n",
    "# Plot the results\n",
    "plt.scatter(X_test, y_test, color='gray')\n",
    "plt.plot(X_test, y_pred, color='red', linewidth=2)\n",
    "plt.xlabel('Carat Weight')\n",
    "plt.ylabel('Total Sales Price')\n",
    "plt.show()\n",
    "\n",
    "print('The coefficient for the squared term (carat_weight^2) is {:.2f}'.format(regressor.coef_[2]))\n",
    "print('The coefficient for the linear term (carat_weight) is {:.2f}'.format(regressor.coef_[1]))\n",
    "print('The intercept is {:.2f}'.format(regressor.intercept_))\n",
    "print('The R-squared value is {:.2f}'.format(regressor.score(X_poly_test, y_test)))"
   ]
  },
  {
   "cell_type": "code",
   "execution_count": 80,
   "metadata": {},
   "outputs": [
    {
     "data": {
      "image/png": "[encoded data removed]",
      "text/plain": [
       "<Figure size 432x288 with 3 Axes>"
      ]
     },
     "metadata": {
      "needs_background": "light"
     },
     "output_type": "display_data"
    },
    {
     "data": {
      "image/png": "[encoded data removed]",
      "text/plain": [
       "<Figure size 432x288 with 3 Axes>"
      ]
     },
     "metadata": {
      "needs_background": "light"
     },
     "output_type": "display_data"
    },
    {
     "data": {
      "image/png": "[encoded data removed]",
      "text/plain": [
       "<Figure size 432x288 with 3 Axes>"
      ]
     },
     "metadata": {
      "needs_background": "light"
     },
     "output_type": "display_data"
    },
    {
     "data": {
      "image/png": "[encoded data removed]",
      "text/plain": [
       "<Figure size 432x288 with 3 Axes>"
      ]
     },
     "metadata": {
      "needs_background": "light"
     },
     "output_type": "display_data"
    },
    {
     "data": {
      "image/png": "[encoded data removed]",
      "text/plain": [
       "<Figure size 432x288 with 3 Axes>"
      ]
     },
     "metadata": {
      "needs_background": "light"
     },
     "output_type": "display_data"
    },
    {
     "data": {
      "image/png": "[encoded data removed]",
      "text/plain": [
       "<Figure size 432x288 with 3 Axes>"
      ]
     },
     "metadata": {
      "needs_background": "light"
     },
     "output_type": "display_data"
    },
    {
     "data": {
      "image/png": "[encoded data removed]",
      "text/plain": [
       "<Figure size 432x288 with 3 Axes>"
      ]
     },
     "metadata": {
      "needs_background": "light"
     },
     "output_type": "display_data"
    }
   ],
   "source": [
    "import pandas as pd\n",
    "import matplotlib.pyplot as plt\n",
    "\n",
    "# Read in the data\n",
    "df = pd.read_csv('diamonds.csv')\n",
    "\n",
    "# Define the price ranges\n",
    "price_ranges = [(0, 1000), (1000, 5000), (5000, 10000), (10000, 15000), (15000, 20000), (20000, 50000), (50000, float('inf'))]\n",
    "\n",
    "# Create a function to categorize prices into the defined ranges\n",
    "def categorize_price(price):\n",
    "    for i, r in enumerate(price_ranges):\n",
    "        if price >= r[0] and price < r[1]:\n",
    "            return i\n",
    "\n",
    "# Categorize the prices and add a new column to the dataframe\n",
    "df['price_range'] = df['total_sales_price'].apply(categorize_price)\n",
    "\n",
    "# Group the data by price range and attribute, and count the occurrences\n",
    "grouped = df.groupby(['price_range', 'cut', 'color', 'clarity']).size().reset_index(name='count')\n",
    "\n",
    "# Plot the distribution of attributes in each price range\n",
    "for i, r in enumerate(price_ranges):\n",
    "    plt.figure()\n",
    "    plt.suptitle('Diamond Attributes in Price Range $' + str(r[0]) + ' - $' + str(r[1]))\n",
    "    df_range = grouped[grouped['price_range'] == i]\n",
    "    for attr in ['cut', 'color', 'clarity']:\n",
    "        plt.subplot(1, 3, ['cut', 'color', 'clarity'].index(attr) + 1)\n",
    "        plt.bar(df_range[attr], df_range['count'])\n",
    "        plt.xticks(rotation=90)\n",
    "        plt.xlabel(attr)\n",
    "        plt.ylabel('Count')\n",
    "    plt.tight_layout()\n",
    "    plt.show()"
   ]
  }
 ],
 "metadata": {
  "colab": {
   "provenance": []
  },
  "kernelspec": {
   "display_name": "Python 3 (ipykernel)",
   "language": "python",
   "name": "python3"
  },
  "language_info": {
   "codemirror_mode": {
    "name": "ipython",
    "version": 3
   },
   "file_extension": ".py",
   "mimetype": "text/x-python",
   "name": "python",
   "nbconvert_exporter": "python",
   "pygments_lexer": "ipython3",
   "version": "3.9.16"
  }
 },
 "nbformat": 4,
 "nbformat_minor": 1
}
