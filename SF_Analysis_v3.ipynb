{
 "cells": [
  {
   "cell_type": "code",
   "execution_count": 1,
   "id": "d0069da9",
   "metadata": {},
   "outputs": [
    {
     "name": "stdout",
     "output_type": "stream",
     "text": [
      "%pylab is deprecated, use %matplotlib inline and import the required libraries.\n",
      "Populating the interactive namespace from numpy and matplotlib\n"
     ]
    }
   ],
   "source": [
    "import pandas as pd\n",
    "from pandas import Series, DataFrame\n",
    "%pylab inline"
   ]
  },
  {
   "cell_type": "code",
   "execution_count": 2,
   "id": "6b428c73",
   "metadata": {},
   "outputs": [],
   "source": [
    "df = pd.read_stata('SF_cleaned_data.dta')"
   ]
  },
  {
   "cell_type": "code",
   "execution_count": 3,
   "id": "a243ffc4",
   "metadata": {},
   "outputs": [
    {
     "name": "stderr",
     "output_type": "stream",
     "text": [
      "/var/folders/_y/qcxv13s525ndt5w209zq61fh0000gn/T/ipykernel_49708/979759236.py:1: PerformanceWarning: DataFrame is highly fragmented.  This is usually the result of calling `frame.insert` many times, which has poor performance.  Consider joining all columns at once using pd.concat(axis=1) instead. To get a de-fragmented frame, use `newframe = frame.copy()`\n",
      "  df['Date'] = pd.to_datetime(df['last_scraped'])\n"
     ]
    }
   ],
   "source": [
    "#create DateTime index \n",
    "df['Date'] = pd.to_datetime(df['last_scraped'])\n",
    "df.set_index('Date', inplace=True)\n"
   ]
  },
  {
   "cell_type": "code",
   "execution_count": 4,
   "id": "2ab56fb9",
   "metadata": {},
   "outputs": [
    {
     "data": {
      "text/html": [
       "<div>\n",
       "<style scoped>\n",
       "    .dataframe tbody tr th:only-of-type {\n",
       "        vertical-align: middle;\n",
       "    }\n",
       "\n",
       "    .dataframe tbody tr th {\n",
       "        vertical-align: top;\n",
       "    }\n",
       "\n",
       "    .dataframe thead th {\n",
       "        text-align: right;\n",
       "    }\n",
       "</style>\n",
       "<table border=\"1\" class=\"dataframe\">\n",
       "  <thead>\n",
       "    <tr style=\"text-align: right;\">\n",
       "      <th></th>\n",
       "      <th>id</th>\n",
       "      <th>month</th>\n",
       "      <th>list_month</th>\n",
       "      <th>last_scraped</th>\n",
       "      <th>host_id</th>\n",
       "      <th>host_name</th>\n",
       "      <th>host_since</th>\n",
       "      <th>host_location</th>\n",
       "      <th>host_response_time</th>\n",
       "      <th>host_response_rate</th>\n",
       "      <th>...</th>\n",
       "      <th>neigh_listings</th>\n",
       "      <th>lag_neigh_lists</th>\n",
       "      <th>delta_reviews</th>\n",
       "      <th>id_max_delta_reviews</th>\n",
       "      <th>id_minDSR</th>\n",
       "      <th>id_minCALUP</th>\n",
       "      <th>id_max_avail365</th>\n",
       "      <th>id_max_RPM</th>\n",
       "      <th>id_max_entrant</th>\n",
       "      <th>id_min_minnights</th>\n",
       "    </tr>\n",
       "    <tr>\n",
       "      <th>Date</th>\n",
       "      <th></th>\n",
       "      <th></th>\n",
       "      <th></th>\n",
       "      <th></th>\n",
       "      <th></th>\n",
       "      <th></th>\n",
       "      <th></th>\n",
       "      <th></th>\n",
       "      <th></th>\n",
       "      <th></th>\n",
       "      <th></th>\n",
       "      <th></th>\n",
       "      <th></th>\n",
       "      <th></th>\n",
       "      <th></th>\n",
       "      <th></th>\n",
       "      <th></th>\n",
       "      <th></th>\n",
       "      <th></th>\n",
       "      <th></th>\n",
       "      <th></th>\n",
       "    </tr>\n",
       "  </thead>\n",
       "  <tbody>\n",
       "    <tr>\n",
       "      <th>2015-09-02</th>\n",
       "      <td>958</td>\n",
       "      <td>0</td>\n",
       "      <td>1</td>\n",
       "      <td>2015-09-02</td>\n",
       "      <td>1169</td>\n",
       "      <td>Holly</td>\n",
       "      <td>2008-07-31</td>\n",
       "      <td>San Francisco, California, United States</td>\n",
       "      <td>within a day</td>\n",
       "      <td>80%</td>\n",
       "      <td>...</td>\n",
       "      <td>578.0</td>\n",
       "      <td>NaN</td>\n",
       "      <td>NaN</td>\n",
       "      <td>9.0</td>\n",
       "      <td>2.0</td>\n",
       "      <td>0.0</td>\n",
       "      <td>318.0</td>\n",
       "      <td>11.9</td>\n",
       "      <td>0.0</td>\n",
       "      <td>1.0</td>\n",
       "    </tr>\n",
       "    <tr>\n",
       "      <th>2015-11-01</th>\n",
       "      <td>958</td>\n",
       "      <td>1</td>\n",
       "      <td>1</td>\n",
       "      <td>2015-11-01</td>\n",
       "      <td>1169</td>\n",
       "      <td>Holly</td>\n",
       "      <td>2008-07-31</td>\n",
       "      <td>San Francisco, California, United States</td>\n",
       "      <td>within a day</td>\n",
       "      <td>88%</td>\n",
       "      <td>...</td>\n",
       "      <td>669.0</td>\n",
       "      <td>578.0</td>\n",
       "      <td>2.0</td>\n",
       "      <td>9.0</td>\n",
       "      <td>2.0</td>\n",
       "      <td>0.0</td>\n",
       "      <td>318.0</td>\n",
       "      <td>11.9</td>\n",
       "      <td>0.0</td>\n",
       "      <td>1.0</td>\n",
       "    </tr>\n",
       "    <tr>\n",
       "      <th>2015-12-02</th>\n",
       "      <td>958</td>\n",
       "      <td>2</td>\n",
       "      <td>1</td>\n",
       "      <td>2015-12-02</td>\n",
       "      <td>1169</td>\n",
       "      <td>Holly</td>\n",
       "      <td>2008-07-31</td>\n",
       "      <td>San Francisco, California, United States</td>\n",
       "      <td>within a day</td>\n",
       "      <td>80%</td>\n",
       "      <td>...</td>\n",
       "      <td>673.0</td>\n",
       "      <td>669.0</td>\n",
       "      <td>1.0</td>\n",
       "      <td>9.0</td>\n",
       "      <td>2.0</td>\n",
       "      <td>0.0</td>\n",
       "      <td>318.0</td>\n",
       "      <td>11.9</td>\n",
       "      <td>0.0</td>\n",
       "      <td>1.0</td>\n",
       "    </tr>\n",
       "    <tr>\n",
       "      <th>2016-02-02</th>\n",
       "      <td>958</td>\n",
       "      <td>3</td>\n",
       "      <td>1</td>\n",
       "      <td>2016-02-02</td>\n",
       "      <td>1169</td>\n",
       "      <td>Holly</td>\n",
       "      <td>2008-07-31</td>\n",
       "      <td>San Francisco, California, United States</td>\n",
       "      <td>within a day</td>\n",
       "      <td>80%</td>\n",
       "      <td>...</td>\n",
       "      <td>705.0</td>\n",
       "      <td>673.0</td>\n",
       "      <td>3.0</td>\n",
       "      <td>9.0</td>\n",
       "      <td>2.0</td>\n",
       "      <td>0.0</td>\n",
       "      <td>318.0</td>\n",
       "      <td>11.9</td>\n",
       "      <td>0.0</td>\n",
       "      <td>1.0</td>\n",
       "    </tr>\n",
       "    <tr>\n",
       "      <th>2016-04-03</th>\n",
       "      <td>958</td>\n",
       "      <td>4</td>\n",
       "      <td>1</td>\n",
       "      <td>2016-04-03</td>\n",
       "      <td>1169</td>\n",
       "      <td>Holly</td>\n",
       "      <td>2008-07-31</td>\n",
       "      <td>San Francisco, California, United States</td>\n",
       "      <td>within a day</td>\n",
       "      <td>86%</td>\n",
       "      <td>...</td>\n",
       "      <td>692.0</td>\n",
       "      <td>705.0</td>\n",
       "      <td>5.0</td>\n",
       "      <td>9.0</td>\n",
       "      <td>2.0</td>\n",
       "      <td>0.0</td>\n",
       "      <td>318.0</td>\n",
       "      <td>11.9</td>\n",
       "      <td>0.0</td>\n",
       "      <td>1.0</td>\n",
       "    </tr>\n",
       "  </tbody>\n",
       "</table>\n",
       "<p>5 rows × 278 columns</p>\n",
       "</div>"
      ],
      "text/plain": [
       "             id  month  list_month last_scraped  host_id host_name  \\\n",
       "Date                                                                 \n",
       "2015-09-02  958      0           1   2015-09-02     1169     Holly   \n",
       "2015-11-01  958      1           1   2015-11-01     1169     Holly   \n",
       "2015-12-02  958      2           1   2015-12-02     1169     Holly   \n",
       "2016-02-02  958      3           1   2016-02-02     1169     Holly   \n",
       "2016-04-03  958      4           1   2016-04-03     1169     Holly   \n",
       "\n",
       "            host_since                             host_location  \\\n",
       "Date                                                               \n",
       "2015-09-02  2008-07-31  San Francisco, California, United States   \n",
       "2015-11-01  2008-07-31  San Francisco, California, United States   \n",
       "2015-12-02  2008-07-31  San Francisco, California, United States   \n",
       "2016-02-02  2008-07-31  San Francisco, California, United States   \n",
       "2016-04-03  2008-07-31  San Francisco, California, United States   \n",
       "\n",
       "           host_response_time host_response_rate  ... neigh_listings  \\\n",
       "Date                                              ...                  \n",
       "2015-09-02       within a day                80%  ...          578.0   \n",
       "2015-11-01       within a day                88%  ...          669.0   \n",
       "2015-12-02       within a day                80%  ...          673.0   \n",
       "2016-02-02       within a day                80%  ...          705.0   \n",
       "2016-04-03       within a day                86%  ...          692.0   \n",
       "\n",
       "            lag_neigh_lists  delta_reviews id_max_delta_reviews id_minDSR  \\\n",
       "Date                                                                        \n",
       "2015-09-02              NaN            NaN                  9.0       2.0   \n",
       "2015-11-01            578.0            2.0                  9.0       2.0   \n",
       "2015-12-02            669.0            1.0                  9.0       2.0   \n",
       "2016-02-02            673.0            3.0                  9.0       2.0   \n",
       "2016-04-03            705.0            5.0                  9.0       2.0   \n",
       "\n",
       "           id_minCALUP  id_max_avail365  id_max_RPM id_max_entrant  \\\n",
       "Date                                                                 \n",
       "2015-09-02         0.0            318.0        11.9            0.0   \n",
       "2015-11-01         0.0            318.0        11.9            0.0   \n",
       "2015-12-02         0.0            318.0        11.9            0.0   \n",
       "2016-02-02         0.0            318.0        11.9            0.0   \n",
       "2016-04-03         0.0            318.0        11.9            0.0   \n",
       "\n",
       "           id_min_minnights  \n",
       "Date                         \n",
       "2015-09-02              1.0  \n",
       "2015-11-01              1.0  \n",
       "2015-12-02              1.0  \n",
       "2016-02-02              1.0  \n",
       "2016-04-03              1.0  \n",
       "\n",
       "[5 rows x 278 columns]"
      ]
     },
     "execution_count": 4,
     "metadata": {},
     "output_type": "execute_result"
    }
   ],
   "source": [
    "#first 5 rows\n",
    "df[:5]"
   ]
  },
  {
   "cell_type": "markdown",
   "id": "cd036841",
   "metadata": {},
   "source": [
    "##### July 2017 vs July 2018"
   ]
  },
  {
   "cell_type": "code",
   "execution_count": 5,
   "id": "e5a5238b",
   "metadata": {},
   "outputs": [],
   "source": [
    "#masks to select July 2017 and July 2018\n",
    "july2017 = df[(df.index >= '2017-07-01') & (df.index < '2017-08-01')]\n",
    "july2018 = df[(df.index >= '2018-07-01') & (df.index < '2018-08-01')]\n"
   ]
  },
  {
   "cell_type": "code",
   "execution_count": 6,
   "id": "291d9de2",
   "metadata": {},
   "outputs": [
    {
     "data": {
      "text/plain": [
       "count    6135.000000\n",
       "mean      137.398533\n",
       "std       130.902293\n",
       "min         0.000000\n",
       "25%         9.000000\n",
       "50%        90.000000\n",
       "75%       279.000000\n",
       "max       365.000000\n",
       "Name: availability_365, dtype: float64"
      ]
     },
     "execution_count": 6,
     "metadata": {},
     "output_type": "execute_result"
    }
   ],
   "source": [
    "july2017['availability_365'].describe()"
   ]
  },
  {
   "cell_type": "code",
   "execution_count": 7,
   "id": "050ca96b",
   "metadata": {},
   "outputs": [
    {
     "data": {
      "text/plain": [
       "count    4030.000000\n",
       "mean      129.765261\n",
       "std       121.813913\n",
       "min         0.000000\n",
       "25%        15.000000\n",
       "50%        87.000000\n",
       "75%       255.000000\n",
       "max       365.000000\n",
       "Name: availability_365, dtype: float64"
      ]
     },
     "execution_count": 7,
     "metadata": {},
     "output_type": "execute_result"
    }
   ],
   "source": [
    "july2018['availability_365'].describe()"
   ]
  },
  {
   "cell_type": "markdown",
   "id": "96047e43",
   "metadata": {},
   "source": [
    "##### December 2017 vs December 2018"
   ]
  },
  {
   "cell_type": "code",
   "execution_count": 8,
   "id": "9fbd8485",
   "metadata": {},
   "outputs": [],
   "source": [
    "dec2017 = df[(df.index >= '2017-12-01') & (df.index < '2018-01-01')]\n",
    "dec2018 = df[(df.index >= '2018-12-01') & (df.index < '2019-01-01')]\n"
   ]
  },
  {
   "cell_type": "code",
   "execution_count": 9,
   "id": "9c02762c",
   "metadata": {},
   "outputs": [
    {
     "data": {
      "text/plain": [
       "count    11265.000000\n",
       "mean       143.169463\n",
       "std        135.726440\n",
       "min          0.000000\n",
       "25%         13.000000\n",
       "50%         89.000000\n",
       "75%        296.000000\n",
       "max        365.000000\n",
       "Name: availability_365, dtype: float64"
      ]
     },
     "execution_count": 9,
     "metadata": {},
     "output_type": "execute_result"
    }
   ],
   "source": [
    "dec2017['availability_365'].describe()"
   ]
  },
  {
   "cell_type": "code",
   "execution_count": 10,
   "id": "3bbe542b",
   "metadata": {},
   "outputs": [
    {
     "data": {
      "text/plain": [
       "count    4987.000000\n",
       "mean      152.591337\n",
       "std       129.892914\n",
       "min         0.000000\n",
       "25%        32.500000\n",
       "50%       120.000000\n",
       "75%       286.000000\n",
       "max       365.000000\n",
       "Name: availability_365, dtype: float64"
      ]
     },
     "execution_count": 10,
     "metadata": {},
     "output_type": "execute_result"
    }
   ],
   "source": [
    "dec2018['availability_365'].describe()"
   ]
  },
  {
   "cell_type": "markdown",
   "id": "3507ae9a",
   "metadata": {},
   "source": [
    "##### Histograms"
   ]
  },
  {
   "cell_type": "code",
   "execution_count": 11,
   "id": "a848f081",
   "metadata": {},
   "outputs": [
    {
     "data": {
      "text/plain": [
       "Text(0.5, 1.0, 'July 2018')"
      ]
     },
     "execution_count": 11,
     "metadata": {},
     "output_type": "execute_result"
    },
    {
     "data": {
      "image/png": "[encoded data removed]",
      "text/plain": [
       "<Figure size 800x300 with 2 Axes>"
      ]
     },
     "metadata": {},
     "output_type": "display_data"
    }
   ],
   "source": [
    "import matplotlib.pyplot as plt\n",
    "fig, (ax1, ax2) = subplots(nrows=1, \n",
    "                                sharex = True,\n",
    "                                sharey = True,\n",
    "                                ncols=2,\n",
    "                                figsize=(8, 3))\n",
    "\n",
    "ax1 = july2017['availability_365'].hist(ax = ax1)\n",
    "ax1.set_title(\"July 2017\")\n",
    "\n",
    "ax2 = july2018['availability_365'].hist(ax = ax2)\n",
    "ax2.set_title(\"July 2018\")"
   ]
  },
  {
   "cell_type": "code",
   "execution_count": 12,
   "id": "2313a745",
   "metadata": {},
   "outputs": [
    {
     "data": {
      "text/plain": [
       "Text(0.5, 1.0, 'December 2018')"
      ]
     },
     "execution_count": 12,
     "metadata": {},
     "output_type": "execute_result"
    },
    {
     "data": {
      "image/png": "[encoded data removed]",
      "text/plain": [
       "<Figure size 800x300 with 2 Axes>"
      ]
     },
     "metadata": {},
     "output_type": "display_data"
    }
   ],
   "source": [
    "import matplotlib.pyplot as plt\n",
    "fig, (ax1, ax2) = subplots(nrows=1, \n",
    "                                sharex = True,\n",
    "                                sharey = True,\n",
    "                                ncols=2,\n",
    "                                figsize=(8, 3))\n",
    "\n",
    "ax1 = dec2017['availability_365'].hist(ax = ax1)\n",
    "ax1.set_title(\"December 2017\")\n",
    "\n",
    "ax2 = dec2018['availability_365'].hist(ax = ax2)\n",
    "ax2.set_title(\"December 2018\")"
   ]
  },
  {
   "cell_type": "markdown",
   "id": "e69c9ceb",
   "metadata": {},
   "source": [
    "##### 10 hosts differences in availability_365, price, number_of_reviews, reviews_per_month, delta_reviews, days_since_rev\n"
   ]
  },
  {
   "cell_type": "code",
   "execution_count": 250,
   "id": "f9d40423",
   "metadata": {},
   "outputs": [],
   "source": [
    "##### July 2017 vs July 2018"
   ]
  },
  {
   "cell_type": "code",
   "execution_count": 251,
   "id": "1e1bf14e",
   "metadata": {},
   "outputs": [],
   "source": [
    "# select columns we want\n",
    "a = july2017[['host_id', 'availability_365', 'price', 'number_of_reviews', 'reviews_per_month', 'delta_reviews', 'days_since_rev' ]]"
   ]
  },
  {
   "cell_type": "code",
   "execution_count": 252,
   "id": "b455cb60",
   "metadata": {},
   "outputs": [
    {
     "data": {
      "text/html": [
       "<div>\n",
       "<style scoped>\n",
       "    .dataframe tbody tr th:only-of-type {\n",
       "        vertical-align: middle;\n",
       "    }\n",
       "\n",
       "    .dataframe tbody tr th {\n",
       "        vertical-align: top;\n",
       "    }\n",
       "\n",
       "    .dataframe thead th {\n",
       "        text-align: right;\n",
       "    }\n",
       "</style>\n",
       "<table border=\"1\" class=\"dataframe\">\n",
       "  <thead>\n",
       "    <tr style=\"text-align: right;\">\n",
       "      <th></th>\n",
       "      <th>availability_365</th>\n",
       "      <th>price</th>\n",
       "      <th>number_of_reviews</th>\n",
       "      <th>reviews_per_month</th>\n",
       "      <th>delta_reviews</th>\n",
       "      <th>days_since_rev</th>\n",
       "    </tr>\n",
       "    <tr>\n",
       "      <th>host_id</th>\n",
       "      <th></th>\n",
       "      <th></th>\n",
       "      <th></th>\n",
       "      <th></th>\n",
       "      <th></th>\n",
       "      <th></th>\n",
       "    </tr>\n",
       "  </thead>\n",
       "  <tbody>\n",
       "    <tr>\n",
       "      <th>1169</th>\n",
       "      <td>239.0</td>\n",
       "      <td>170.0</td>\n",
       "      <td>89.0</td>\n",
       "      <td>0.92</td>\n",
       "      <td>1.0</td>\n",
       "      <td>31.0</td>\n",
       "    </tr>\n",
       "    <tr>\n",
       "      <th>3163</th>\n",
       "      <td>NaN</td>\n",
       "      <td>NaN</td>\n",
       "      <td>NaN</td>\n",
       "      <td>NaN</td>\n",
       "      <td>NaN</td>\n",
       "      <td>NaN</td>\n",
       "    </tr>\n",
       "    <tr>\n",
       "      <th>7191</th>\n",
       "      <td>42.0</td>\n",
       "      <td>152.0</td>\n",
       "      <td>4.0</td>\n",
       "      <td>0.05</td>\n",
       "      <td>0.0</td>\n",
       "      <td>191.0</td>\n",
       "    </tr>\n",
       "    <tr>\n",
       "      <th>7476</th>\n",
       "      <td>NaN</td>\n",
       "      <td>NaN</td>\n",
       "      <td>NaN</td>\n",
       "      <td>NaN</td>\n",
       "      <td>NaN</td>\n",
       "      <td>NaN</td>\n",
       "    </tr>\n",
       "    <tr>\n",
       "      <th>10038</th>\n",
       "      <td>350.0</td>\n",
       "      <td>181.0</td>\n",
       "      <td>37.0</td>\n",
       "      <td>0.37</td>\n",
       "      <td>NaN</td>\n",
       "      <td>546.0</td>\n",
       "    </tr>\n",
       "    <tr>\n",
       "      <th>...</th>\n",
       "      <td>...</td>\n",
       "      <td>...</td>\n",
       "      <td>...</td>\n",
       "      <td>...</td>\n",
       "      <td>...</td>\n",
       "      <td>...</td>\n",
       "    </tr>\n",
       "    <tr>\n",
       "      <th>233914298</th>\n",
       "      <td>NaN</td>\n",
       "      <td>NaN</td>\n",
       "      <td>NaN</td>\n",
       "      <td>NaN</td>\n",
       "      <td>NaN</td>\n",
       "      <td>NaN</td>\n",
       "    </tr>\n",
       "    <tr>\n",
       "      <th>233914298</th>\n",
       "      <td>NaN</td>\n",
       "      <td>NaN</td>\n",
       "      <td>NaN</td>\n",
       "      <td>NaN</td>\n",
       "      <td>NaN</td>\n",
       "      <td>NaN</td>\n",
       "    </tr>\n",
       "    <tr>\n",
       "      <th>39729330</th>\n",
       "      <td>NaN</td>\n",
       "      <td>NaN</td>\n",
       "      <td>NaN</td>\n",
       "      <td>NaN</td>\n",
       "      <td>NaN</td>\n",
       "      <td>NaN</td>\n",
       "    </tr>\n",
       "    <tr>\n",
       "      <th>234851176</th>\n",
       "      <td>NaN</td>\n",
       "      <td>NaN</td>\n",
       "      <td>NaN</td>\n",
       "      <td>NaN</td>\n",
       "      <td>NaN</td>\n",
       "      <td>NaN</td>\n",
       "    </tr>\n",
       "    <tr>\n",
       "      <th>221525713</th>\n",
       "      <td>NaN</td>\n",
       "      <td>NaN</td>\n",
       "      <td>NaN</td>\n",
       "      <td>NaN</td>\n",
       "      <td>NaN</td>\n",
       "      <td>NaN</td>\n",
       "    </tr>\n",
       "  </tbody>\n",
       "</table>\n",
       "<p>14280 rows × 6 columns</p>\n",
       "</div>"
      ],
      "text/plain": [
       "           availability_365  price  number_of_reviews  reviews_per_month  \\\n",
       "host_id                                                                    \n",
       "1169                  239.0  170.0               89.0               0.92   \n",
       "3163                    NaN    NaN                NaN                NaN   \n",
       "7191                   42.0  152.0                4.0               0.05   \n",
       "7476                    NaN    NaN                NaN                NaN   \n",
       "10038                 350.0  181.0               37.0               0.37   \n",
       "...                     ...    ...                ...                ...   \n",
       "233914298               NaN    NaN                NaN                NaN   \n",
       "233914298               NaN    NaN                NaN                NaN   \n",
       "39729330                NaN    NaN                NaN                NaN   \n",
       "234851176               NaN    NaN                NaN                NaN   \n",
       "221525713               NaN    NaN                NaN                NaN   \n",
       "\n",
       "           delta_reviews  days_since_rev  \n",
       "host_id                                   \n",
       "1169                 1.0            31.0  \n",
       "3163                 NaN             NaN  \n",
       "7191                 0.0           191.0  \n",
       "7476                 NaN             NaN  \n",
       "10038                NaN           546.0  \n",
       "...                  ...             ...  \n",
       "233914298            NaN             NaN  \n",
       "233914298            NaN             NaN  \n",
       "39729330             NaN             NaN  \n",
       "234851176            NaN             NaN  \n",
       "221525713            NaN             NaN  \n",
       "\n",
       "[14280 rows x 6 columns]"
      ]
     },
     "execution_count": 252,
     "metadata": {},
     "output_type": "execute_result"
    }
   ],
   "source": [
    "# reset index to make comparisons\n",
    "a.set_index('host_id', inplace=True)\n",
    "a"
   ]
  },
  {
   "cell_type": "code",
   "execution_count": 253,
   "id": "7e91d865",
   "metadata": {},
   "outputs": [
    {
     "data": {
      "text/html": [
       "<div>\n",
       "<style scoped>\n",
       "    .dataframe tbody tr th:only-of-type {\n",
       "        vertical-align: middle;\n",
       "    }\n",
       "\n",
       "    .dataframe tbody tr th {\n",
       "        vertical-align: top;\n",
       "    }\n",
       "\n",
       "    .dataframe thead th {\n",
       "        text-align: right;\n",
       "    }\n",
       "</style>\n",
       "<table border=\"1\" class=\"dataframe\">\n",
       "  <thead>\n",
       "    <tr style=\"text-align: right;\">\n",
       "      <th></th>\n",
       "      <th>availability_365</th>\n",
       "      <th>price</th>\n",
       "      <th>number_of_reviews</th>\n",
       "      <th>reviews_per_month</th>\n",
       "      <th>delta_reviews</th>\n",
       "      <th>days_since_rev</th>\n",
       "    </tr>\n",
       "    <tr>\n",
       "      <th>host_id</th>\n",
       "      <th></th>\n",
       "      <th></th>\n",
       "      <th></th>\n",
       "      <th></th>\n",
       "      <th></th>\n",
       "      <th></th>\n",
       "    </tr>\n",
       "  </thead>\n",
       "  <tbody>\n",
       "    <tr>\n",
       "      <th>1169</th>\n",
       "      <td>134.0</td>\n",
       "      <td>170.0</td>\n",
       "      <td>143.0</td>\n",
       "      <td>1.31</td>\n",
       "      <td>9.0</td>\n",
       "      <td>15.0</td>\n",
       "    </tr>\n",
       "    <tr>\n",
       "      <th>3163</th>\n",
       "      <td>NaN</td>\n",
       "      <td>NaN</td>\n",
       "      <td>NaN</td>\n",
       "      <td>NaN</td>\n",
       "      <td>NaN</td>\n",
       "      <td>NaN</td>\n",
       "    </tr>\n",
       "    <tr>\n",
       "      <th>7191</th>\n",
       "      <td>NaN</td>\n",
       "      <td>NaN</td>\n",
       "      <td>NaN</td>\n",
       "      <td>NaN</td>\n",
       "      <td>NaN</td>\n",
       "      <td>NaN</td>\n",
       "    </tr>\n",
       "    <tr>\n",
       "      <th>7476</th>\n",
       "      <td>NaN</td>\n",
       "      <td>NaN</td>\n",
       "      <td>NaN</td>\n",
       "      <td>NaN</td>\n",
       "      <td>NaN</td>\n",
       "      <td>NaN</td>\n",
       "    </tr>\n",
       "    <tr>\n",
       "      <th>10038</th>\n",
       "      <td>NaN</td>\n",
       "      <td>NaN</td>\n",
       "      <td>NaN</td>\n",
       "      <td>NaN</td>\n",
       "      <td>NaN</td>\n",
       "      <td>NaN</td>\n",
       "    </tr>\n",
       "    <tr>\n",
       "      <th>...</th>\n",
       "      <td>...</td>\n",
       "      <td>...</td>\n",
       "      <td>...</td>\n",
       "      <td>...</td>\n",
       "      <td>...</td>\n",
       "      <td>...</td>\n",
       "    </tr>\n",
       "    <tr>\n",
       "      <th>233914298</th>\n",
       "      <td>NaN</td>\n",
       "      <td>NaN</td>\n",
       "      <td>NaN</td>\n",
       "      <td>NaN</td>\n",
       "      <td>NaN</td>\n",
       "      <td>NaN</td>\n",
       "    </tr>\n",
       "    <tr>\n",
       "      <th>233914298</th>\n",
       "      <td>NaN</td>\n",
       "      <td>NaN</td>\n",
       "      <td>NaN</td>\n",
       "      <td>NaN</td>\n",
       "      <td>NaN</td>\n",
       "      <td>NaN</td>\n",
       "    </tr>\n",
       "    <tr>\n",
       "      <th>39729330</th>\n",
       "      <td>NaN</td>\n",
       "      <td>NaN</td>\n",
       "      <td>NaN</td>\n",
       "      <td>NaN</td>\n",
       "      <td>NaN</td>\n",
       "      <td>NaN</td>\n",
       "    </tr>\n",
       "    <tr>\n",
       "      <th>234851176</th>\n",
       "      <td>NaN</td>\n",
       "      <td>NaN</td>\n",
       "      <td>NaN</td>\n",
       "      <td>NaN</td>\n",
       "      <td>NaN</td>\n",
       "      <td>NaN</td>\n",
       "    </tr>\n",
       "    <tr>\n",
       "      <th>221525713</th>\n",
       "      <td>NaN</td>\n",
       "      <td>NaN</td>\n",
       "      <td>NaN</td>\n",
       "      <td>NaN</td>\n",
       "      <td>NaN</td>\n",
       "      <td>NaN</td>\n",
       "    </tr>\n",
       "  </tbody>\n",
       "</table>\n",
       "<p>14280 rows × 6 columns</p>\n",
       "</div>"
      ],
      "text/plain": [
       "           availability_365  price  number_of_reviews  reviews_per_month  \\\n",
       "host_id                                                                    \n",
       "1169                  134.0  170.0              143.0               1.31   \n",
       "3163                    NaN    NaN                NaN                NaN   \n",
       "7191                    NaN    NaN                NaN                NaN   \n",
       "7476                    NaN    NaN                NaN                NaN   \n",
       "10038                   NaN    NaN                NaN                NaN   \n",
       "...                     ...    ...                ...                ...   \n",
       "233914298               NaN    NaN                NaN                NaN   \n",
       "233914298               NaN    NaN                NaN                NaN   \n",
       "39729330                NaN    NaN                NaN                NaN   \n",
       "234851176               NaN    NaN                NaN                NaN   \n",
       "221525713               NaN    NaN                NaN                NaN   \n",
       "\n",
       "           delta_reviews  days_since_rev  \n",
       "host_id                                   \n",
       "1169                 9.0            15.0  \n",
       "3163                 NaN             NaN  \n",
       "7191                 NaN             NaN  \n",
       "7476                 NaN             NaN  \n",
       "10038                NaN             NaN  \n",
       "...                  ...             ...  \n",
       "233914298            NaN             NaN  \n",
       "233914298            NaN             NaN  \n",
       "39729330             NaN             NaN  \n",
       "234851176            NaN             NaN  \n",
       "221525713            NaN             NaN  \n",
       "\n",
       "[14280 rows x 6 columns]"
      ]
     },
     "execution_count": 253,
     "metadata": {},
     "output_type": "execute_result"
    }
   ],
   "source": [
    "b = july2018[['host_id', 'availability_365', 'price', 'number_of_reviews', 'reviews_per_month', 'delta_reviews', 'days_since_rev' ]]\n",
    "b.set_index('host_id', inplace=True)\n",
    "b"
   ]
  },
  {
   "cell_type": "markdown",
   "id": "3295e26e",
   "metadata": {},
   "source": [
    "##### Availability_356"
   ]
  },
  {
   "cell_type": "code",
   "execution_count": 254,
   "id": "be7796e5",
   "metadata": {},
   "outputs": [
    {
     "data": {
      "text/plain": [
       "host_id\n",
       "1169    -105.0\n",
       "8904       3.0\n",
       "21994      0.0\n",
       "22402   -141.0\n",
       "21994    -28.0\n",
       "24215      0.0\n",
       "25601     16.0\n",
       "7149    -107.0\n",
       "29674    -39.0\n",
       "35199    -43.0\n",
       "Name: availability_365, dtype: float64"
      ]
     },
     "execution_count": 254,
     "metadata": {},
     "output_type": "execute_result"
    }
   ],
   "source": [
    "## Availability_365\n",
    "availability_diff = b['availability_365'] - a['availability_365']\n",
    "availability_diff.dropna()[:10]"
   ]
  },
  {
   "cell_type": "code",
   "execution_count": 255,
   "id": "a5f63ed2",
   "metadata": {},
   "outputs": [
    {
     "data": {
      "text/plain": [
       "count    2781.000000\n",
       "mean      -23.363538\n",
       "std        91.644754\n",
       "min      -365.000000\n",
       "25%       -45.000000\n",
       "50%       -10.000000\n",
       "75%         8.000000\n",
       "max       344.000000\n",
       "Name: availability_365, dtype: float64"
      ]
     },
     "execution_count": 255,
     "metadata": {},
     "output_type": "execute_result"
    }
   ],
   "source": [
    "availability_diff.dropna().describe()"
   ]
  },
  {
   "cell_type": "markdown",
   "id": "600d969b",
   "metadata": {},
   "source": [
    "##### Price"
   ]
  },
  {
   "cell_type": "code",
   "execution_count": 256,
   "id": "a8349c1e",
   "metadata": {},
   "outputs": [
    {
     "data": {
      "text/plain": [
       "host_id\n",
       "1169       0.0\n",
       "8904       0.0\n",
       "21994      0.0\n",
       "22402      3.0\n",
       "21994      0.0\n",
       "24215    100.0\n",
       "25601      0.0\n",
       "7149       0.0\n",
       "29674      0.0\n",
       "35199     15.0\n",
       "Name: price, dtype: float64"
      ]
     },
     "execution_count": 256,
     "metadata": {},
     "output_type": "execute_result"
    }
   ],
   "source": [
    "## Price\n",
    "price_diff = b['price'] - a['price']\n",
    "price_diff.dropna()[:10]"
   ]
  },
  {
   "cell_type": "code",
   "execution_count": 257,
   "id": "ad38ab98",
   "metadata": {},
   "outputs": [
    {
     "data": {
      "text/plain": [
       "count    2781.000000\n",
       "mean        4.211075\n",
       "std        52.162354\n",
       "min      -710.000000\n",
       "25%         0.000000\n",
       "50%         0.000000\n",
       "75%         0.000000\n",
       "max       650.000000\n",
       "Name: price, dtype: float64"
      ]
     },
     "execution_count": 257,
     "metadata": {},
     "output_type": "execute_result"
    }
   ],
   "source": [
    "price_diff.dropna().describe()"
   ]
  },
  {
   "cell_type": "markdown",
   "id": "ca31af8d",
   "metadata": {},
   "source": [
    "##### number_of_reviews\t"
   ]
  },
  {
   "cell_type": "code",
   "execution_count": 124,
   "id": "15226d14",
   "metadata": {},
   "outputs": [
    {
     "data": {
      "text/plain": [
       "host_id\n",
       "1169     54.0\n",
       "8904      1.0\n",
       "21994     0.0\n",
       "22402    24.0\n",
       "21994     1.0\n",
       "24215     3.0\n",
       "25601     3.0\n",
       "7149     99.0\n",
       "29674    54.0\n",
       "35199    35.0\n",
       "Name: number_of_reviews, dtype: float64"
      ]
     },
     "execution_count": 124,
     "metadata": {},
     "output_type": "execute_result"
    }
   ],
   "source": [
    "## Number of Reviews\n",
    "num_rev_diff = b['number_of_reviews'] - a['number_of_reviews']\n",
    "num_rev_diff.dropna()[:10]"
   ]
  },
  {
   "cell_type": "code",
   "execution_count": 120,
   "id": "3949f028",
   "metadata": {},
   "outputs": [
    {
     "data": {
      "text/plain": [
       "count    2781.00000\n",
       "mean       26.19813\n",
       "std        26.00574\n",
       "min         0.00000\n",
       "25%         5.00000\n",
       "50%        18.00000\n",
       "75%        41.00000\n",
       "max       135.00000\n",
       "Name: number_of_reviews, dtype: float64"
      ]
     },
     "execution_count": 120,
     "metadata": {},
     "output_type": "execute_result"
    }
   ],
   "source": [
    "num_rev_diff.dropna().describe()"
   ]
  },
  {
   "cell_type": "markdown",
   "id": "f693a3c0",
   "metadata": {},
   "source": [
    "##### Reviews_per_month"
   ]
  },
  {
   "cell_type": "code",
   "execution_count": 114,
   "id": "95dbbf0e",
   "metadata": {},
   "outputs": [
    {
     "data": {
      "text/plain": [
       "host_id\n",
       "1169     0.39\n",
       "8904    -0.12\n",
       "21994   -0.02\n",
       "22402    0.16\n",
       "21994   -0.02\n",
       "24215    0.00\n",
       "25601    0.00\n",
       "7149     0.34\n",
       "29674    0.08\n",
       "35199    0.02\n",
       "Name: reviews_per_month, dtype: float32"
      ]
     },
     "execution_count": 114,
     "metadata": {},
     "output_type": "execute_result"
    }
   ],
   "source": [
    "## Reviews per month\n",
    "rev_mon_diff = b['reviews_per_month'] - a['reviews_per_month']\n",
    "rev_mon_diff.dropna()[:10]"
   ]
  },
  {
   "cell_type": "code",
   "execution_count": 121,
   "id": "1c018e15",
   "metadata": {},
   "outputs": [
    {
     "data": {
      "text/plain": [
       "count    2655.000000\n",
       "mean       -0.038283\n",
       "std         0.733098\n",
       "min        -5.240000\n",
       "25%        -0.210000\n",
       "50%        -0.010000\n",
       "75%         0.160000\n",
       "max         5.680000\n",
       "Name: reviews_per_month, dtype: float64"
      ]
     },
     "execution_count": 121,
     "metadata": {},
     "output_type": "execute_result"
    }
   ],
   "source": [
    "rev_mon_diff.dropna().describe()"
   ]
  },
  {
   "cell_type": "markdown",
   "id": "405edbaf",
   "metadata": {},
   "source": [
    "##### Delta Reviews"
   ]
  },
  {
   "cell_type": "code",
   "execution_count": 116,
   "id": "a04c9e54",
   "metadata": {},
   "outputs": [
    {
     "data": {
      "text/plain": [
       "host_id\n",
       "1169     8.0\n",
       "8904     0.0\n",
       "21994    0.0\n",
       "22402    1.0\n",
       "21994    0.0\n",
       "24215    0.0\n",
       "25601    0.0\n",
       "7149     6.0\n",
       "29674    8.0\n",
       "35199    6.0\n",
       "Name: delta_reviews, dtype: float32"
      ]
     },
     "execution_count": 116,
     "metadata": {},
     "output_type": "execute_result"
    }
   ],
   "source": [
    "## Delta Reviews\n",
    "delta_diff = b['delta_reviews'] - a['delta_reviews']\n",
    "delta_diff.dropna()[:10]"
   ]
  },
  {
   "cell_type": "code",
   "execution_count": 122,
   "id": "c4f2cc3f",
   "metadata": {},
   "outputs": [
    {
     "data": {
      "text/plain": [
       "count    2588.000000\n",
       "mean        2.058733\n",
       "std         3.825078\n",
       "min       -11.000000\n",
       "25%         0.000000\n",
       "50%         1.000000\n",
       "75%         4.000000\n",
       "max        23.000000\n",
       "Name: delta_reviews, dtype: float64"
      ]
     },
     "execution_count": 122,
     "metadata": {},
     "output_type": "execute_result"
    }
   ],
   "source": [
    "delta_diff.dropna().describe()"
   ]
  },
  {
   "cell_type": "markdown",
   "id": "8589cf20",
   "metadata": {},
   "source": [
    "##### Days Since Review"
   ]
  },
  {
   "cell_type": "code",
   "execution_count": 125,
   "id": "affac1dd",
   "metadata": {},
   "outputs": [
    {
     "data": {
      "text/plain": [
       "host_id\n",
       "1169     -16.0\n",
       "8904      66.0\n",
       "21994    368.0\n",
       "22402     26.0\n",
       "21994    -83.0\n",
       "24215    -93.0\n",
       "25601    -66.0\n",
       "7149       1.0\n",
       "29674     -8.0\n",
       "35199    -15.0\n",
       "Name: days_since_rev, dtype: float32"
      ]
     },
     "execution_count": 125,
     "metadata": {},
     "output_type": "execute_result"
    }
   ],
   "source": [
    "## Days Since Review\n",
    "days_diff = b['days_since_rev'] - a['days_since_rev']\n",
    "days_diff.dropna()[:10]"
   ]
  },
  {
   "cell_type": "code",
   "execution_count": 126,
   "id": "12c18cb1",
   "metadata": {},
   "outputs": [
    {
     "data": {
      "text/plain": [
       "count    2655.000000\n",
       "mean       14.997363\n",
       "std       167.340439\n",
       "min     -1763.000000\n",
       "25%       -11.000000\n",
       "50%         2.000000\n",
       "75%        31.000000\n",
       "max       368.000000\n",
       "Name: days_since_rev, dtype: float64"
      ]
     },
     "execution_count": 126,
     "metadata": {},
     "output_type": "execute_result"
    }
   ],
   "source": [
    "days_diff.dropna().describe()"
   ]
  },
  {
   "cell_type": "markdown",
   "id": "f0941f8d",
   "metadata": {},
   "source": [
    "##### OCT2017 vs OCT2018"
   ]
  },
  {
   "cell_type": "code",
   "execution_count": 312,
   "id": "678c1cbf",
   "metadata": {},
   "outputs": [],
   "source": [
    "oct2017 = df[(df.index >= '2017-10-01') & (df.index < '2017-11-01')]\n",
    "oct2018 = df[(df.index >= '2018-10-01') & (df.index < '2018-11-01')]"
   ]
  },
  {
   "cell_type": "code",
   "execution_count": 313,
   "id": "71e9b8fb",
   "metadata": {},
   "outputs": [
    {
     "name": "stderr",
     "output_type": "stream",
     "text": [
      "/var/folders/_y/qcxv13s525ndt5w209zq61fh0000gn/T/ipykernel_49708/2225010455.py:2: SettingWithCopyWarning: \n",
      "A value is trying to be set on a copy of a slice from a DataFrame\n",
      "\n",
      "See the caveats in the documentation: https://pandas.pydata.org/pandas-docs/stable/user_guide/indexing.html#returning-a-view-versus-a-copy\n",
      "  c.sort_values(by = 'Date', inplace = True)\n"
     ]
    }
   ],
   "source": [
    "c = oct2017[['host_id', 'availability_365', 'price', 'number_of_reviews', 'reviews_per_month', 'delta_reviews', 'days_since_rev' ]]\n",
    "c.sort_values(by = 'Date', inplace = True)\n",
    "c.set_index('host_id', inplace=True)"
   ]
  },
  {
   "cell_type": "code",
   "execution_count": 314,
   "id": "dd4082c2",
   "metadata": {},
   "outputs": [
    {
     "data": {
      "text/html": [
       "<div>\n",
       "<style scoped>\n",
       "    .dataframe tbody tr th:only-of-type {\n",
       "        vertical-align: middle;\n",
       "    }\n",
       "\n",
       "    .dataframe tbody tr th {\n",
       "        vertical-align: top;\n",
       "    }\n",
       "\n",
       "    .dataframe thead th {\n",
       "        text-align: right;\n",
       "    }\n",
       "</style>\n",
       "<table border=\"1\" class=\"dataframe\">\n",
       "  <thead>\n",
       "    <tr style=\"text-align: right;\">\n",
       "      <th></th>\n",
       "      <th>availability_365</th>\n",
       "      <th>price</th>\n",
       "      <th>number_of_reviews</th>\n",
       "      <th>reviews_per_month</th>\n",
       "      <th>delta_reviews</th>\n",
       "      <th>days_since_rev</th>\n",
       "    </tr>\n",
       "    <tr>\n",
       "      <th>host_id</th>\n",
       "      <th></th>\n",
       "      <th></th>\n",
       "      <th></th>\n",
       "      <th></th>\n",
       "      <th></th>\n",
       "      <th></th>\n",
       "    </tr>\n",
       "  </thead>\n",
       "  <tbody>\n",
       "    <tr>\n",
       "      <th>1169</th>\n",
       "      <td>160.0</td>\n",
       "      <td>170.0</td>\n",
       "      <td>109.0</td>\n",
       "      <td>1.09</td>\n",
       "      <td>4.0</td>\n",
       "      <td>21.0</td>\n",
       "    </tr>\n",
       "    <tr>\n",
       "      <th>95787300</th>\n",
       "      <td>NaN</td>\n",
       "      <td>NaN</td>\n",
       "      <td>NaN</td>\n",
       "      <td>NaN</td>\n",
       "      <td>NaN</td>\n",
       "      <td>NaN</td>\n",
       "    </tr>\n",
       "    <tr>\n",
       "      <th>95792940</th>\n",
       "      <td>NaN</td>\n",
       "      <td>NaN</td>\n",
       "      <td>NaN</td>\n",
       "      <td>NaN</td>\n",
       "      <td>NaN</td>\n",
       "      <td>NaN</td>\n",
       "    </tr>\n",
       "    <tr>\n",
       "      <th>6225035</th>\n",
       "      <td>NaN</td>\n",
       "      <td>NaN</td>\n",
       "      <td>NaN</td>\n",
       "      <td>NaN</td>\n",
       "      <td>NaN</td>\n",
       "      <td>NaN</td>\n",
       "    </tr>\n",
       "    <tr>\n",
       "      <th>14766201</th>\n",
       "      <td>208.0</td>\n",
       "      <td>225.0</td>\n",
       "      <td>4.0</td>\n",
       "      <td>0.35</td>\n",
       "      <td>0.0</td>\n",
       "      <td>62.0</td>\n",
       "    </tr>\n",
       "    <tr>\n",
       "      <th>...</th>\n",
       "      <td>...</td>\n",
       "      <td>...</td>\n",
       "      <td>...</td>\n",
       "      <td>...</td>\n",
       "      <td>...</td>\n",
       "      <td>...</td>\n",
       "    </tr>\n",
       "    <tr>\n",
       "      <th>10765395</th>\n",
       "      <td>NaN</td>\n",
       "      <td>NaN</td>\n",
       "      <td>NaN</td>\n",
       "      <td>NaN</td>\n",
       "      <td>NaN</td>\n",
       "      <td>NaN</td>\n",
       "    </tr>\n",
       "    <tr>\n",
       "      <th>37624778</th>\n",
       "      <td>106.0</td>\n",
       "      <td>700.0</td>\n",
       "      <td>24.0</td>\n",
       "      <td>0.89</td>\n",
       "      <td>0.0</td>\n",
       "      <td>219.0</td>\n",
       "    </tr>\n",
       "    <tr>\n",
       "      <th>17018982</th>\n",
       "      <td>88.0</td>\n",
       "      <td>115.0</td>\n",
       "      <td>40.0</td>\n",
       "      <td>1.48</td>\n",
       "      <td>1.0</td>\n",
       "      <td>18.0</td>\n",
       "    </tr>\n",
       "    <tr>\n",
       "      <th>37517426</th>\n",
       "      <td>NaN</td>\n",
       "      <td>NaN</td>\n",
       "      <td>NaN</td>\n",
       "      <td>NaN</td>\n",
       "      <td>NaN</td>\n",
       "      <td>NaN</td>\n",
       "    </tr>\n",
       "    <tr>\n",
       "      <th>221525713</th>\n",
       "      <td>NaN</td>\n",
       "      <td>NaN</td>\n",
       "      <td>NaN</td>\n",
       "      <td>NaN</td>\n",
       "      <td>NaN</td>\n",
       "      <td>NaN</td>\n",
       "    </tr>\n",
       "  </tbody>\n",
       "</table>\n",
       "<p>14280 rows × 6 columns</p>\n",
       "</div>"
      ],
      "text/plain": [
       "           availability_365  price  number_of_reviews  reviews_per_month  \\\n",
       "host_id                                                                    \n",
       "1169                  160.0  170.0              109.0               1.09   \n",
       "95787300                NaN    NaN                NaN                NaN   \n",
       "95792940                NaN    NaN                NaN                NaN   \n",
       "6225035                 NaN    NaN                NaN                NaN   \n",
       "14766201              208.0  225.0                4.0               0.35   \n",
       "...                     ...    ...                ...                ...   \n",
       "10765395                NaN    NaN                NaN                NaN   \n",
       "37624778              106.0  700.0               24.0               0.89   \n",
       "17018982               88.0  115.0               40.0               1.48   \n",
       "37517426                NaN    NaN                NaN                NaN   \n",
       "221525713               NaN    NaN                NaN                NaN   \n",
       "\n",
       "           delta_reviews  days_since_rev  \n",
       "host_id                                   \n",
       "1169                 4.0            21.0  \n",
       "95787300             NaN             NaN  \n",
       "95792940             NaN             NaN  \n",
       "6225035              NaN             NaN  \n",
       "14766201             0.0            62.0  \n",
       "...                  ...             ...  \n",
       "10765395             NaN             NaN  \n",
       "37624778             0.0           219.0  \n",
       "17018982             1.0            18.0  \n",
       "37517426             NaN             NaN  \n",
       "221525713            NaN             NaN  \n",
       "\n",
       "[14280 rows x 6 columns]"
      ]
     },
     "execution_count": 314,
     "metadata": {},
     "output_type": "execute_result"
    }
   ],
   "source": [
    "c"
   ]
  },
  {
   "cell_type": "code",
   "execution_count": 315,
   "id": "95548667",
   "metadata": {},
   "outputs": [
    {
     "name": "stderr",
     "output_type": "stream",
     "text": [
      "/var/folders/_y/qcxv13s525ndt5w209zq61fh0000gn/T/ipykernel_49708/1642452297.py:2: SettingWithCopyWarning: \n",
      "A value is trying to be set on a copy of a slice from a DataFrame\n",
      "\n",
      "See the caveats in the documentation: https://pandas.pydata.org/pandas-docs/stable/user_guide/indexing.html#returning-a-view-versus-a-copy\n",
      "  d.sort_values(by = 'Date', inplace = True)\n"
     ]
    }
   ],
   "source": [
    "d = oct2018[['host_id', 'availability_365', 'price', 'number_of_reviews', 'reviews_per_month', 'delta_reviews', 'days_since_rev' ]]\n",
    "d.sort_values(by = 'Date', inplace = True)\n",
    "d.set_index('host_id', inplace=True)\n"
   ]
  },
  {
   "cell_type": "code",
   "execution_count": 316,
   "id": "ef0120de",
   "metadata": {},
   "outputs": [
    {
     "data": {
      "text/html": [
       "<div>\n",
       "<style scoped>\n",
       "    .dataframe tbody tr th:only-of-type {\n",
       "        vertical-align: middle;\n",
       "    }\n",
       "\n",
       "    .dataframe tbody tr th {\n",
       "        vertical-align: top;\n",
       "    }\n",
       "\n",
       "    .dataframe thead th {\n",
       "        text-align: right;\n",
       "    }\n",
       "</style>\n",
       "<table border=\"1\" class=\"dataframe\">\n",
       "  <thead>\n",
       "    <tr style=\"text-align: right;\">\n",
       "      <th></th>\n",
       "      <th>availability_365</th>\n",
       "      <th>price</th>\n",
       "      <th>number_of_reviews</th>\n",
       "      <th>reviews_per_month</th>\n",
       "      <th>delta_reviews</th>\n",
       "      <th>days_since_rev</th>\n",
       "    </tr>\n",
       "    <tr>\n",
       "      <th>host_id</th>\n",
       "      <th></th>\n",
       "      <th></th>\n",
       "      <th></th>\n",
       "      <th></th>\n",
       "      <th></th>\n",
       "      <th></th>\n",
       "    </tr>\n",
       "  </thead>\n",
       "  <tbody>\n",
       "    <tr>\n",
       "      <th>1169</th>\n",
       "      <td>140.0</td>\n",
       "      <td>170.0</td>\n",
       "      <td>160.0</td>\n",
       "      <td>1.43</td>\n",
       "      <td>4.0</td>\n",
       "      <td>16.0</td>\n",
       "    </tr>\n",
       "    <tr>\n",
       "      <th>95787300</th>\n",
       "      <td>NaN</td>\n",
       "      <td>NaN</td>\n",
       "      <td>NaN</td>\n",
       "      <td>NaN</td>\n",
       "      <td>NaN</td>\n",
       "      <td>NaN</td>\n",
       "    </tr>\n",
       "    <tr>\n",
       "      <th>95792940</th>\n",
       "      <td>NaN</td>\n",
       "      <td>NaN</td>\n",
       "      <td>NaN</td>\n",
       "      <td>NaN</td>\n",
       "      <td>NaN</td>\n",
       "      <td>NaN</td>\n",
       "    </tr>\n",
       "    <tr>\n",
       "      <th>6225035</th>\n",
       "      <td>NaN</td>\n",
       "      <td>NaN</td>\n",
       "      <td>NaN</td>\n",
       "      <td>NaN</td>\n",
       "      <td>NaN</td>\n",
       "      <td>NaN</td>\n",
       "    </tr>\n",
       "    <tr>\n",
       "      <th>14766201</th>\n",
       "      <td>242.0</td>\n",
       "      <td>225.0</td>\n",
       "      <td>6.0</td>\n",
       "      <td>0.25</td>\n",
       "      <td>0.0</td>\n",
       "      <td>273.0</td>\n",
       "    </tr>\n",
       "    <tr>\n",
       "      <th>...</th>\n",
       "      <td>...</td>\n",
       "      <td>...</td>\n",
       "      <td>...</td>\n",
       "      <td>...</td>\n",
       "      <td>...</td>\n",
       "      <td>...</td>\n",
       "    </tr>\n",
       "    <tr>\n",
       "      <th>10765395</th>\n",
       "      <td>NaN</td>\n",
       "      <td>NaN</td>\n",
       "      <td>NaN</td>\n",
       "      <td>NaN</td>\n",
       "      <td>NaN</td>\n",
       "      <td>NaN</td>\n",
       "    </tr>\n",
       "    <tr>\n",
       "      <th>37624778</th>\n",
       "      <td>NaN</td>\n",
       "      <td>NaN</td>\n",
       "      <td>NaN</td>\n",
       "      <td>NaN</td>\n",
       "      <td>NaN</td>\n",
       "      <td>NaN</td>\n",
       "    </tr>\n",
       "    <tr>\n",
       "      <th>17018982</th>\n",
       "      <td>NaN</td>\n",
       "      <td>NaN</td>\n",
       "      <td>NaN</td>\n",
       "      <td>NaN</td>\n",
       "      <td>NaN</td>\n",
       "      <td>NaN</td>\n",
       "    </tr>\n",
       "    <tr>\n",
       "      <th>37517426</th>\n",
       "      <td>NaN</td>\n",
       "      <td>NaN</td>\n",
       "      <td>NaN</td>\n",
       "      <td>NaN</td>\n",
       "      <td>NaN</td>\n",
       "      <td>NaN</td>\n",
       "    </tr>\n",
       "    <tr>\n",
       "      <th>221525713</th>\n",
       "      <td>NaN</td>\n",
       "      <td>NaN</td>\n",
       "      <td>NaN</td>\n",
       "      <td>NaN</td>\n",
       "      <td>NaN</td>\n",
       "      <td>NaN</td>\n",
       "    </tr>\n",
       "  </tbody>\n",
       "</table>\n",
       "<p>14280 rows × 6 columns</p>\n",
       "</div>"
      ],
      "text/plain": [
       "           availability_365  price  number_of_reviews  reviews_per_month  \\\n",
       "host_id                                                                    \n",
       "1169                  140.0  170.0              160.0               1.43   \n",
       "95787300                NaN    NaN                NaN                NaN   \n",
       "95792940                NaN    NaN                NaN                NaN   \n",
       "6225035                 NaN    NaN                NaN                NaN   \n",
       "14766201              242.0  225.0                6.0               0.25   \n",
       "...                     ...    ...                ...                ...   \n",
       "10765395                NaN    NaN                NaN                NaN   \n",
       "37624778                NaN    NaN                NaN                NaN   \n",
       "17018982                NaN    NaN                NaN                NaN   \n",
       "37517426                NaN    NaN                NaN                NaN   \n",
       "221525713               NaN    NaN                NaN                NaN   \n",
       "\n",
       "           delta_reviews  days_since_rev  \n",
       "host_id                                   \n",
       "1169                 4.0            16.0  \n",
       "95787300             NaN             NaN  \n",
       "95792940             NaN             NaN  \n",
       "6225035              NaN             NaN  \n",
       "14766201             0.0           273.0  \n",
       "...                  ...             ...  \n",
       "10765395             NaN             NaN  \n",
       "37624778             NaN             NaN  \n",
       "17018982             NaN             NaN  \n",
       "37517426             NaN             NaN  \n",
       "221525713            NaN             NaN  \n",
       "\n",
       "[14280 rows x 6 columns]"
      ]
     },
     "execution_count": 316,
     "metadata": {},
     "output_type": "execute_result"
    }
   ],
   "source": [
    "d"
   ]
  },
  {
   "cell_type": "markdown",
   "id": "879947f1",
   "metadata": {},
   "source": [
    "##### Availability_365"
   ]
  },
  {
   "cell_type": "code",
   "execution_count": 317,
   "id": "7c4364b1",
   "metadata": {},
   "outputs": [
    {
     "data": {
      "text/plain": [
       "host_id\n",
       "1169        -20.0\n",
       "14766201     34.0\n",
       "53614586    -40.0\n",
       "95958962      0.0\n",
       "46243268    -90.0\n",
       "7898856      11.0\n",
       "51003        86.0\n",
       "1787588    -236.0\n",
       "15103537      1.0\n",
       "260426      -24.0\n",
       "Name: availability_365, dtype: float64"
      ]
     },
     "execution_count": 317,
     "metadata": {},
     "output_type": "execute_result"
    }
   ],
   "source": [
    "## Availability_365\n",
    "availability_diff = d['availability_365'] - c['availability_365']\n",
    "availability_diff.dropna()[:10]\n"
   ]
  },
  {
   "cell_type": "code",
   "execution_count": 318,
   "id": "4215fe1c",
   "metadata": {},
   "outputs": [
    {
     "data": {
      "text/plain": [
       "count    3004.000000\n",
       "mean      -15.901132\n",
       "std        91.103352\n",
       "min      -363.000000\n",
       "25%       -37.250000\n",
       "50%        -5.000000\n",
       "75%        13.000000\n",
       "max       348.000000\n",
       "Name: availability_365, dtype: float64"
      ]
     },
     "execution_count": 318,
     "metadata": {},
     "output_type": "execute_result"
    }
   ],
   "source": [
    "availability_diff.dropna().describe()"
   ]
  },
  {
   "cell_type": "markdown",
   "id": "dab2c01a",
   "metadata": {},
   "source": [
    "##### Price"
   ]
  },
  {
   "cell_type": "code",
   "execution_count": 319,
   "id": "37581a57",
   "metadata": {},
   "outputs": [
    {
     "data": {
      "text/plain": [
       "host_id\n",
       "1169         0.0\n",
       "14766201     0.0\n",
       "53614586    20.0\n",
       "95958962     0.0\n",
       "46243268     0.0\n",
       "7898856      0.0\n",
       "51003        0.0\n",
       "1787588      0.0\n",
       "15103537     0.0\n",
       "260426       0.0\n",
       "Name: price, dtype: float64"
      ]
     },
     "execution_count": 319,
     "metadata": {},
     "output_type": "execute_result"
    }
   ],
   "source": [
    "## Price\n",
    "price_diff = d['price'] - c['price']\n",
    "price_diff.dropna()[:10]"
   ]
  },
  {
   "cell_type": "code",
   "execution_count": 320,
   "id": "4bf1858d",
   "metadata": {},
   "outputs": [
    {
     "data": {
      "text/plain": [
       "count    3004.000000\n",
       "mean        2.985686\n",
       "std        56.527799\n",
       "min      -680.000000\n",
       "25%         0.000000\n",
       "50%         0.000000\n",
       "75%         0.000000\n",
       "max       701.000000\n",
       "Name: price, dtype: float64"
      ]
     },
     "execution_count": 320,
     "metadata": {},
     "output_type": "execute_result"
    }
   ],
   "source": [
    "price_diff.dropna().describe()"
   ]
  },
  {
   "cell_type": "markdown",
   "id": "a51ea37c",
   "metadata": {},
   "source": [
    "##### number_of_reviews\t"
   ]
  },
  {
   "cell_type": "code",
   "execution_count": 321,
   "id": "660dd1f0",
   "metadata": {},
   "outputs": [
    {
     "data": {
      "text/plain": [
       "host_id\n",
       "1169        51.0\n",
       "14766201     2.0\n",
       "53614586    60.0\n",
       "95958962     0.0\n",
       "46243268    32.0\n",
       "7898856      2.0\n",
       "51003        0.0\n",
       "1787588     55.0\n",
       "15103537     3.0\n",
       "260426      23.0\n",
       "Name: number_of_reviews, dtype: float64"
      ]
     },
     "execution_count": 321,
     "metadata": {},
     "output_type": "execute_result"
    }
   ],
   "source": [
    "## Number of Reviews\n",
    "num_rev_diff = d['number_of_reviews'] - c['number_of_reviews']\n",
    "num_rev_diff.dropna()[:10]"
   ]
  },
  {
   "cell_type": "code",
   "execution_count": 322,
   "id": "88c2182b",
   "metadata": {},
   "outputs": [
    {
     "data": {
      "text/plain": [
       "count    3004.000000\n",
       "mean       25.205726\n",
       "std        26.076777\n",
       "min         0.000000\n",
       "25%         4.000000\n",
       "50%        15.500000\n",
       "75%        40.000000\n",
       "max       141.000000\n",
       "Name: number_of_reviews, dtype: float64"
      ]
     },
     "execution_count": 322,
     "metadata": {},
     "output_type": "execute_result"
    }
   ],
   "source": [
    "num_rev_diff.dropna().describe()"
   ]
  },
  {
   "cell_type": "markdown",
   "id": "beba5e93",
   "metadata": {},
   "source": [
    "##### reviews_per_month\t\n"
   ]
  },
  {
   "cell_type": "code",
   "execution_count": 323,
   "id": "5163b2a6",
   "metadata": {},
   "outputs": [
    {
     "data": {
      "text/plain": [
       "host_id\n",
       "1169        0.34\n",
       "14766201   -0.10\n",
       "53614586    0.88\n",
       "95958962   -0.80\n",
       "46243268    0.05\n",
       "7898856    -0.78\n",
       "51003      -0.11\n",
       "1787588    -0.18\n",
       "15103537   -1.31\n",
       "260426      0.47\n",
       "Name: reviews_per_month, dtype: float32"
      ]
     },
     "execution_count": 323,
     "metadata": {},
     "output_type": "execute_result"
    }
   ],
   "source": [
    "## Reviews per month\n",
    "rev_mon_diff = d['reviews_per_month'] - c['reviews_per_month']\n",
    "rev_mon_diff.dropna()[:10]"
   ]
  },
  {
   "cell_type": "code",
   "execution_count": 324,
   "id": "64dc7e93",
   "metadata": {},
   "outputs": [
    {
     "data": {
      "text/plain": [
       "count    2900.000000\n",
       "mean       -0.163538\n",
       "std         0.807625\n",
       "min        -9.059999\n",
       "25%        -0.320000\n",
       "50%        -0.050000\n",
       "75%         0.090000\n",
       "max        10.580000\n",
       "Name: reviews_per_month, dtype: float64"
      ]
     },
     "execution_count": 324,
     "metadata": {},
     "output_type": "execute_result"
    }
   ],
   "source": [
    "rev_mon_diff.dropna().describe()"
   ]
  },
  {
   "cell_type": "markdown",
   "id": "a7c16488",
   "metadata": {},
   "source": [
    "##### delta_reviews\t"
   ]
  },
  {
   "cell_type": "code",
   "execution_count": 325,
   "id": "b2fc6a96",
   "metadata": {},
   "outputs": [
    {
     "data": {
      "text/plain": [
       "host_id\n",
       "1169        0.0\n",
       "14766201    0.0\n",
       "53614586   -2.0\n",
       "95958962   -1.0\n",
       "1787588    -3.0\n",
       "15103537    0.0\n",
       "260426     -1.0\n",
       "1340541     0.0\n",
       "1994513     3.0\n",
       "861262      0.0\n",
       "Name: delta_reviews, dtype: float32"
      ]
     },
     "execution_count": 325,
     "metadata": {},
     "output_type": "execute_result"
    }
   ],
   "source": [
    "## Delta Reviews\n",
    "delta_diff = d['delta_reviews'] - c['delta_reviews']\n",
    "delta_diff.dropna()[:10]"
   ]
  },
  {
   "cell_type": "code",
   "execution_count": 326,
   "id": "66bd3957",
   "metadata": {},
   "outputs": [
    {
     "data": {
      "text/plain": [
       "count    2710.000000\n",
       "mean       -0.615867\n",
       "std         2.332071\n",
       "min       -12.000000\n",
       "25%        -2.000000\n",
       "50%         0.000000\n",
       "75%         0.000000\n",
       "max        14.000000\n",
       "Name: delta_reviews, dtype: float64"
      ]
     },
     "execution_count": 326,
     "metadata": {},
     "output_type": "execute_result"
    }
   ],
   "source": [
    "delta_diff.dropna().describe()"
   ]
  },
  {
   "cell_type": "markdown",
   "id": "b3e53fd5",
   "metadata": {},
   "source": [
    "##### days_since_rev"
   ]
  },
  {
   "cell_type": "code",
   "execution_count": 327,
   "id": "6a6fa4f7",
   "metadata": {},
   "outputs": [
    {
     "data": {
      "text/plain": [
       "host_id\n",
       "1169         -5.0\n",
       "14766201    211.0\n",
       "53614586     10.0\n",
       "95958962    366.0\n",
       "46243268     -3.0\n",
       "7898856     300.0\n",
       "51003       366.0\n",
       "1787588      -5.0\n",
       "15103537    155.0\n",
       "260426        3.0\n",
       "Name: days_since_rev, dtype: float32"
      ]
     },
     "execution_count": 327,
     "metadata": {},
     "output_type": "execute_result"
    }
   ],
   "source": [
    "## Days Since Review\n",
    "days_diff = d['days_since_rev'] - c['days_since_rev']\n",
    "days_diff.dropna()[:10]"
   ]
  },
  {
   "cell_type": "code",
   "execution_count": 328,
   "id": "6957ef71",
   "metadata": {},
   "outputs": [
    {
     "data": {
      "text/plain": [
       "count    2900.000000\n",
       "mean       30.122414\n",
       "std       156.603226\n",
       "min     -1800.000000\n",
       "25%        -8.000000\n",
       "50%         3.000000\n",
       "75%        36.000000\n",
       "max       366.000000\n",
       "Name: days_since_rev, dtype: float64"
      ]
     },
     "execution_count": 328,
     "metadata": {},
     "output_type": "execute_result"
    }
   ],
   "source": [
    "days_diff.dropna().describe()"
   ]
  }
 ],
 "metadata": {
  "kernelspec": {
   "display_name": "Python 3 (ipykernel)",
   "language": "python",
   "name": "python3"
  },
  "language_info": {
   "codemirror_mode": {
    "name": "ipython",
    "version": 3
   },
   "file_extension": ".py",
   "mimetype": "text/x-python",
   "name": "python",
   "nbconvert_exporter": "python",
   "pygments_lexer": "ipython3",
   "version": "3.9.16"
  }
 },
 "nbformat": 4,
 "nbformat_minor": 5
}
